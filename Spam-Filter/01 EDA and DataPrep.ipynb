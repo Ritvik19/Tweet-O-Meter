{
 "cells": [
  {
   "cell_type": "markdown",
   "metadata": {},
   "source": [
    "# Libraries"
   ]
  },
  {
   "cell_type": "code",
   "execution_count": 1,
   "metadata": {
    "ExecuteTime": {
     "end_time": "2020-05-25T07:44:46.013987Z",
     "start_time": "2020-05-25T07:44:44.369374Z"
    }
   },
   "outputs": [],
   "source": [
    "import numpy as np\n",
    "import pandas as pd\n",
    "import matplotlib.pyplot as plt\n",
    "\n",
    "import pickle, os\n",
    "from IPython.display import clear_output"
   ]
  },
  {
   "cell_type": "code",
   "execution_count": 2,
   "metadata": {
    "ExecuteTime": {
     "end_time": "2020-05-25T07:44:46.040904Z",
     "start_time": "2020-05-25T07:44:46.015972Z"
    }
   },
   "outputs": [
    {
     "name": "stderr",
     "output_type": "stream",
     "text": [
      "D:\\Users\\Ritvik\\Anaconda3\\envs\\datascience\\lib\\site-packages\\tqdm\\std.py:648: FutureWarning: The Panel class is removed from pandas. Accessing it from the top-level namespace will also be removed in the next version\n",
      "  from pandas import Panel\n"
     ]
    }
   ],
   "source": [
    "from tqdm.auto import tqdm, trange\n",
    "tqdm.pandas()"
   ]
  },
  {
   "cell_type": "code",
   "execution_count": 3,
   "metadata": {
    "ExecuteTime": {
     "end_time": "2020-05-25T07:44:46.182871Z",
     "start_time": "2020-05-25T07:44:46.042900Z"
    }
   },
   "outputs": [],
   "source": [
    "pd.options.display.max_colwidth = -1"
   ]
  },
  {
   "cell_type": "code",
   "execution_count": 4,
   "metadata": {
    "ExecuteTime": {
     "end_time": "2020-05-25T07:44:46.323498Z",
     "start_time": "2020-05-25T07:44:46.189856Z"
    }
   },
   "outputs": [],
   "source": [
    "import os"
   ]
  },
  {
   "cell_type": "markdown",
   "metadata": {},
   "source": [
    "# Data"
   ]
  },
  {
   "cell_type": "code",
   "execution_count": 5,
   "metadata": {
    "ExecuteTime": {
     "end_time": "2020-05-25T07:44:46.586792Z",
     "start_time": "2020-05-25T07:44:46.326489Z"
    }
   },
   "outputs": [
    {
     "data": {
      "text/html": [
       "<div>\n",
       "<style scoped>\n",
       "    .dataframe tbody tr th:only-of-type {\n",
       "        vertical-align: middle;\n",
       "    }\n",
       "\n",
       "    .dataframe tbody tr th {\n",
       "        vertical-align: top;\n",
       "    }\n",
       "\n",
       "    .dataframe thead th {\n",
       "        text-align: right;\n",
       "    }\n",
       "</style>\n",
       "<table border=\"1\" class=\"dataframe\">\n",
       "  <thead>\n",
       "    <tr style=\"text-align: right;\">\n",
       "      <th></th>\n",
       "      <th>text</th>\n",
       "      <th>spam</th>\n",
       "    </tr>\n",
       "  </thead>\n",
       "  <tbody>\n",
       "    <tr>\n",
       "      <td>0</td>\n",
       "      <td>Subject: naturally irresistible your corporate identity  lt is really hard to recollect a company : the  market is full of suqgestions and the information isoverwhelminq ; but a good  catchy logo , stylish statlonery and outstanding website  will make the task much easier .  we do not promise that havinq ordered a iogo your  company will automaticaily become a world ieader : it isguite ciear that  without good products , effective business organization and practicable aim it  will be hotat nowadays market ; but we do promise that your marketing efforts  will become much more effective . here is the list of clear  benefits : creativeness : hand - made , original logos , specially done  to reflect your distinctive company image . convenience : logo and stationery  are provided in all formats ; easy - to - use content management system letsyou  change your website content and even its structure . promptness : you  will see logo drafts within three business days . affordability : your  marketing break - through shouldn ' t make gaps in your budget . 100 % satisfaction  guaranteed : we provide unlimited amount of changes with no extra fees for you to  be surethat you will love the result of this collaboration . have a look at our  portfolio _ _ _ _ _ _ _ _ _ _ _ _ _ _ _ _ _ _ _ _ _ _ _ _ _ _ _ _ _ _ _ _ _ _ _ _ _ _ _ _ _ _ _ _ _ _ _ _ _ _ _ _ not interested . . . _ _ _ _ _ _ _ _ _ _ _ _ _ _ _ _ _ _ _ _ _ _ _ _ _ _ _ _ _ _ _ _ _ _ _ _ _ _ _ _ _ _ _ _ _ _ _ _ _ _ _ _</td>\n",
       "      <td>1</td>\n",
       "    </tr>\n",
       "    <tr>\n",
       "      <td>1</td>\n",
       "      <td>Subject: the stock trading gunslinger  fanny is merrill but muzo not colza attainder and penultimate like esmark perspicuous ramble is segovia not group try slung kansas tanzania yes chameleon or continuant clothesman no  libretto is chesapeake but tight not waterway herald and hawthorn like chisel morristown superior is deoxyribonucleic not clockwork try hall incredible mcdougall yes hepburn or einsteinian earmark no  sapling is boar but duane not plain palfrey and inflexible like huzzah pepperoni bedtime is nameable not attire try edt chronography optima yes pirogue or diffusion albeit no</td>\n",
       "      <td>1</td>\n",
       "    </tr>\n",
       "    <tr>\n",
       "      <td>2</td>\n",
       "      <td>Subject: unbelievable new homes made easy  im wanting to show you this  homeowner  you have been pre - approved for a $ 454 , 169 home loan at a 3 . 72 fixed rate .  this offer is being extended to you unconditionally and your credit is in no way a factor .  to take advantage of this limited time opportunity  all we ask is that you visit our website and complete  the 1 minute post approval form  look foward to hearing from you ,  dorcas pittman</td>\n",
       "      <td>1</td>\n",
       "    </tr>\n",
       "    <tr>\n",
       "      <td>3</td>\n",
       "      <td>Subject: 4 color printing special  request additional information now ! click here  click here for a printable version of our order form ( pdf format )  phone : ( 626 ) 338 - 8090 fax : ( 626 ) 338 - 8102 e - mail : ramsey @ goldengraphix . com  request additional information now ! click here  click here for a printable version of our order form ( pdf format )  golden graphix &amp; printing 5110 azusa canyon rd . irwindale , ca 91706 this e - mail message is an advertisement and / or solicitation .</td>\n",
       "      <td>1</td>\n",
       "    </tr>\n",
       "    <tr>\n",
       "      <td>4</td>\n",
       "      <td>Subject: do not have money , get software cds from here !  software compatibility . . . . ain ' t it great ?  grow old along with me the best is yet to be .  all tradgedies are finish ' d by death . all comedies are ended by marriage .</td>\n",
       "      <td>1</td>\n",
       "    </tr>\n",
       "  </tbody>\n",
       "</table>\n",
       "</div>"
      ],
      "text/plain": [
       "                                                                                                                                                                                                                                                                                                                                                                                                                                                                                                                                                                                                                                                                                                                                                                                                                                                                                                                                                                                                                                                                                                                                                                                                                                                                                                                                                                                                                                                                                                                                           text  \\\n",
       "0  Subject: naturally irresistible your corporate identity  lt is really hard to recollect a company : the  market is full of suqgestions and the information isoverwhelminq ; but a good  catchy logo , stylish statlonery and outstanding website  will make the task much easier .  we do not promise that havinq ordered a iogo your  company will automaticaily become a world ieader : it isguite ciear that  without good products , effective business organization and practicable aim it  will be hotat nowadays market ; but we do promise that your marketing efforts  will become much more effective . here is the list of clear  benefits : creativeness : hand - made , original logos , specially done  to reflect your distinctive company image . convenience : logo and stationery  are provided in all formats ; easy - to - use content management system letsyou  change your website content and even its structure . promptness : you  will see logo drafts within three business days . affordability : your  marketing break - through shouldn ' t make gaps in your budget . 100 % satisfaction  guaranteed : we provide unlimited amount of changes with no extra fees for you to  be surethat you will love the result of this collaboration . have a look at our  portfolio _ _ _ _ _ _ _ _ _ _ _ _ _ _ _ _ _ _ _ _ _ _ _ _ _ _ _ _ _ _ _ _ _ _ _ _ _ _ _ _ _ _ _ _ _ _ _ _ _ _ _ _ not interested . . . _ _ _ _ _ _ _ _ _ _ _ _ _ _ _ _ _ _ _ _ _ _ _ _ _ _ _ _ _ _ _ _ _ _ _ _ _ _ _ _ _ _ _ _ _ _ _ _ _ _ _ _   \n",
       "1  Subject: the stock trading gunslinger  fanny is merrill but muzo not colza attainder and penultimate like esmark perspicuous ramble is segovia not group try slung kansas tanzania yes chameleon or continuant clothesman no  libretto is chesapeake but tight not waterway herald and hawthorn like chisel morristown superior is deoxyribonucleic not clockwork try hall incredible mcdougall yes hepburn or einsteinian earmark no  sapling is boar but duane not plain palfrey and inflexible like huzzah pepperoni bedtime is nameable not attire try edt chronography optima yes pirogue or diffusion albeit no                                                                                                                                                                                                                                                                                                                                                                                                                                                                                                                                                                                                                                                                                                                                                                                                                                                                                                                          \n",
       "2  Subject: unbelievable new homes made easy  im wanting to show you this  homeowner  you have been pre - approved for a $ 454 , 169 home loan at a 3 . 72 fixed rate .  this offer is being extended to you unconditionally and your credit is in no way a factor .  to take advantage of this limited time opportunity  all we ask is that you visit our website and complete  the 1 minute post approval form  look foward to hearing from you ,  dorcas pittman                                                                                                                                                                                                                                                                                                                                                                                                                                                                                                                                                                                                                                                                                                                                                                                                                                                                                                                                                                                                                                                                               \n",
       "3  Subject: 4 color printing special  request additional information now ! click here  click here for a printable version of our order form ( pdf format )  phone : ( 626 ) 338 - 8090 fax : ( 626 ) 338 - 8102 e - mail : ramsey @ goldengraphix . com  request additional information now ! click here  click here for a printable version of our order form ( pdf format )  golden graphix & printing 5110 azusa canyon rd . irwindale , ca 91706 this e - mail message is an advertisement and / or solicitation .                                                                                                                                                                                                                                                                                                                                                                                                                                                                                                                                                                                                                                                                                                                                                                                                                                                                                                                                                                                                                            \n",
       "4  Subject: do not have money , get software cds from here !  software compatibility . . . . ain ' t it great ?  grow old along with me the best is yet to be .  all tradgedies are finish ' d by death . all comedies are ended by marriage .                                                                                                                                                                                                                                                                                                                                                                                                                                                                                                                                                                                                                                                                                                                                                                                                                                                                                                                                                                                                                                                                                                                                                                                                                                                                                                    \n",
       "\n",
       "   spam  \n",
       "0  1     \n",
       "1  1     \n",
       "2  1     \n",
       "3  1     \n",
       "4  1     "
      ]
     },
     "execution_count": 5,
     "metadata": {},
     "output_type": "execute_result"
    }
   ],
   "source": [
    "data1 = pd.read_csv('emails.csv')\n",
    "data1.head()"
   ]
  },
  {
   "cell_type": "code",
   "execution_count": 6,
   "metadata": {
    "ExecuteTime": {
     "end_time": "2020-05-25T07:44:46.634664Z",
     "start_time": "2020-05-25T07:44:46.590782Z"
    }
   },
   "outputs": [
    {
     "data": {
      "text/html": [
       "<div>\n",
       "<style scoped>\n",
       "    .dataframe tbody tr th:only-of-type {\n",
       "        vertical-align: middle;\n",
       "    }\n",
       "\n",
       "    .dataframe tbody tr th {\n",
       "        vertical-align: top;\n",
       "    }\n",
       "\n",
       "    .dataframe thead th {\n",
       "        text-align: right;\n",
       "    }\n",
       "</style>\n",
       "<table border=\"1\" class=\"dataframe\">\n",
       "  <thead>\n",
       "    <tr style=\"text-align: right;\">\n",
       "      <th></th>\n",
       "      <th>Unnamed: 0</th>\n",
       "      <th>label</th>\n",
       "      <th>message</th>\n",
       "      <th>length</th>\n",
       "    </tr>\n",
       "  </thead>\n",
       "  <tbody>\n",
       "    <tr>\n",
       "      <td>0</td>\n",
       "      <td>0</td>\n",
       "      <td>ham</td>\n",
       "      <td>Go until jurong point, crazy.. Available only in bugis n great world la e buffet... Cine there got amore wat...</td>\n",
       "      <td>111</td>\n",
       "    </tr>\n",
       "    <tr>\n",
       "      <td>1</td>\n",
       "      <td>1</td>\n",
       "      <td>ham</td>\n",
       "      <td>Ok lar... Joking wif u oni...</td>\n",
       "      <td>29</td>\n",
       "    </tr>\n",
       "    <tr>\n",
       "      <td>2</td>\n",
       "      <td>2</td>\n",
       "      <td>spam</td>\n",
       "      <td>Free entry in 2 a wkly comp to win FA Cup final tkts 21st May 2005. Text FA to 87121 to receive entry question(std txt rate)T&amp;C's apply 08452810075over18's</td>\n",
       "      <td>155</td>\n",
       "    </tr>\n",
       "    <tr>\n",
       "      <td>3</td>\n",
       "      <td>3</td>\n",
       "      <td>ham</td>\n",
       "      <td>U dun say so early hor... U c already then say...</td>\n",
       "      <td>49</td>\n",
       "    </tr>\n",
       "    <tr>\n",
       "      <td>4</td>\n",
       "      <td>4</td>\n",
       "      <td>ham</td>\n",
       "      <td>Nah I don't think he goes to usf, he lives around here though</td>\n",
       "      <td>61</td>\n",
       "    </tr>\n",
       "  </tbody>\n",
       "</table>\n",
       "</div>"
      ],
      "text/plain": [
       "   Unnamed: 0 label  \\\n",
       "0  0           ham    \n",
       "1  1           ham    \n",
       "2  2           spam   \n",
       "3  3           ham    \n",
       "4  4           ham    \n",
       "\n",
       "                                                                                                                                                       message  \\\n",
       "0  Go until jurong point, crazy.. Available only in bugis n great world la e buffet... Cine there got amore wat...                                               \n",
       "1  Ok lar... Joking wif u oni...                                                                                                                                 \n",
       "2  Free entry in 2 a wkly comp to win FA Cup final tkts 21st May 2005. Text FA to 87121 to receive entry question(std txt rate)T&C's apply 08452810075over18's   \n",
       "3  U dun say so early hor... U c already then say...                                                                                                             \n",
       "4  Nah I don't think he goes to usf, he lives around here though                                                                                                 \n",
       "\n",
       "   length  \n",
       "0  111     \n",
       "1  29      \n",
       "2  155     \n",
       "3  49      \n",
       "4  61      "
      ]
     },
     "execution_count": 6,
     "metadata": {},
     "output_type": "execute_result"
    }
   ],
   "source": [
    "data2 = pd.read_csv('sms.csv')\n",
    "data2.head()"
   ]
  },
  {
   "cell_type": "code",
   "execution_count": 7,
   "metadata": {
    "ExecuteTime": {
     "end_time": "2020-05-25T07:44:46.752350Z",
     "start_time": "2020-05-25T07:44:46.637656Z"
    }
   },
   "outputs": [
    {
     "data": {
      "text/html": [
       "<div>\n",
       "<style scoped>\n",
       "    .dataframe tbody tr th:only-of-type {\n",
       "        vertical-align: middle;\n",
       "    }\n",
       "\n",
       "    .dataframe tbody tr th {\n",
       "        vertical-align: top;\n",
       "    }\n",
       "\n",
       "    .dataframe thead th {\n",
       "        text-align: right;\n",
       "    }\n",
       "</style>\n",
       "<table border=\"1\" class=\"dataframe\">\n",
       "  <thead>\n",
       "    <tr style=\"text-align: right;\">\n",
       "      <th></th>\n",
       "      <th>COMMENT_ID</th>\n",
       "      <th>AUTHOR</th>\n",
       "      <th>DATE</th>\n",
       "      <th>CONTENT</th>\n",
       "      <th>CLASS</th>\n",
       "    </tr>\n",
       "  </thead>\n",
       "  <tbody>\n",
       "    <tr>\n",
       "      <td>0</td>\n",
       "      <td>LZQPQhLyRh80UYxNuaDWhIGQYNQ96IuCg-AYWqNPjpU</td>\n",
       "      <td>Julius NM</td>\n",
       "      <td>2013-11-07T06:20:48</td>\n",
       "      <td>Huh, anyway check out this you[tube] channel: kobyoshi02</td>\n",
       "      <td>1</td>\n",
       "    </tr>\n",
       "    <tr>\n",
       "      <td>1</td>\n",
       "      <td>LZQPQhLyRh_C2cTtd9MvFRJedxydaVW-2sNg5Diuo4A</td>\n",
       "      <td>adam riyati</td>\n",
       "      <td>2013-11-07T12:37:15</td>\n",
       "      <td>Hey guys check out my new channel and our first vid THIS IS US THE  MONKEYS!!! I'm the monkey in the white shirt,please leave a like comment  and please subscribe!!!!</td>\n",
       "      <td>1</td>\n",
       "    </tr>\n",
       "    <tr>\n",
       "      <td>2</td>\n",
       "      <td>LZQPQhLyRh9MSZYnf8djyk0gEF9BHDPYrrK-qCczIY8</td>\n",
       "      <td>Evgeny Murashkin</td>\n",
       "      <td>2013-11-08T17:34:21</td>\n",
       "      <td>just for test I have to say murdev.com</td>\n",
       "      <td>1</td>\n",
       "    </tr>\n",
       "    <tr>\n",
       "      <td>3</td>\n",
       "      <td>z13jhp0bxqncu512g22wvzkasxmvvzjaz04</td>\n",
       "      <td>ElNino Melendez</td>\n",
       "      <td>2013-11-09T08:28:43</td>\n",
       "      <td>me shaking my sexy ass on my channel enjoy ^_^ ﻿</td>\n",
       "      <td>1</td>\n",
       "    </tr>\n",
       "    <tr>\n",
       "      <td>4</td>\n",
       "      <td>z13fwbwp1oujthgqj04chlngpvzmtt3r3dw</td>\n",
       "      <td>GsMega</td>\n",
       "      <td>2013-11-10T16:05:38</td>\n",
       "      <td>watch?v=vtaRGgvGtWQ   Check this out .﻿</td>\n",
       "      <td>1</td>\n",
       "    </tr>\n",
       "  </tbody>\n",
       "</table>\n",
       "</div>"
      ],
      "text/plain": [
       "                                    COMMENT_ID            AUTHOR  \\\n",
       "0  LZQPQhLyRh80UYxNuaDWhIGQYNQ96IuCg-AYWqNPjpU  Julius NM          \n",
       "1  LZQPQhLyRh_C2cTtd9MvFRJedxydaVW-2sNg5Diuo4A  adam riyati        \n",
       "2  LZQPQhLyRh9MSZYnf8djyk0gEF9BHDPYrrK-qCczIY8  Evgeny Murashkin   \n",
       "3  z13jhp0bxqncu512g22wvzkasxmvvzjaz04          ElNino Melendez    \n",
       "4  z13fwbwp1oujthgqj04chlngpvzmtt3r3dw          GsMega             \n",
       "\n",
       "                  DATE  \\\n",
       "0  2013-11-07T06:20:48   \n",
       "1  2013-11-07T12:37:15   \n",
       "2  2013-11-08T17:34:21   \n",
       "3  2013-11-09T08:28:43   \n",
       "4  2013-11-10T16:05:38   \n",
       "\n",
       "                                                                                                                                                                  CONTENT  \\\n",
       "0  Huh, anyway check out this you[tube] channel: kobyoshi02                                                                                                                 \n",
       "1  Hey guys check out my new channel and our first vid THIS IS US THE  MONKEYS!!! I'm the monkey in the white shirt,please leave a like comment  and please subscribe!!!!   \n",
       "2  just for test I have to say murdev.com                                                                                                                                   \n",
       "3  me shaking my sexy ass on my channel enjoy ^_^ ﻿                                                                                                                         \n",
       "4  watch?v=vtaRGgvGtWQ   Check this out .﻿                                                                                                                                  \n",
       "\n",
       "   CLASS  \n",
       "0  1      \n",
       "1  1      \n",
       "2  1      \n",
       "3  1      \n",
       "4  1      "
      ]
     },
     "execution_count": 7,
     "metadata": {},
     "output_type": "execute_result"
    }
   ],
   "source": [
    "data3 = pd.read_csv('Youtube01-Psy.csv')\n",
    "data3.head()"
   ]
  },
  {
   "cell_type": "code",
   "execution_count": 8,
   "metadata": {
    "ExecuteTime": {
     "end_time": "2020-05-25T07:44:46.914916Z",
     "start_time": "2020-05-25T07:44:46.757336Z"
    }
   },
   "outputs": [
    {
     "data": {
      "text/html": [
       "<div>\n",
       "<style scoped>\n",
       "    .dataframe tbody tr th:only-of-type {\n",
       "        vertical-align: middle;\n",
       "    }\n",
       "\n",
       "    .dataframe tbody tr th {\n",
       "        vertical-align: top;\n",
       "    }\n",
       "\n",
       "    .dataframe thead th {\n",
       "        text-align: right;\n",
       "    }\n",
       "</style>\n",
       "<table border=\"1\" class=\"dataframe\">\n",
       "  <thead>\n",
       "    <tr style=\"text-align: right;\">\n",
       "      <th></th>\n",
       "      <th>COMMENT_ID</th>\n",
       "      <th>AUTHOR</th>\n",
       "      <th>DATE</th>\n",
       "      <th>CONTENT</th>\n",
       "      <th>CLASS</th>\n",
       "    </tr>\n",
       "  </thead>\n",
       "  <tbody>\n",
       "    <tr>\n",
       "      <td>0</td>\n",
       "      <td>z12pgdhovmrktzm3i23es5d5junftft3f</td>\n",
       "      <td>lekanaVEVO1</td>\n",
       "      <td>2014-07-22T15:27:50</td>\n",
       "      <td>i love this so much. AND also I Generate Free Leads on Auto Pilot &amp;amp; You Can  Too! http://www.MyLeaderGate.com/moretraffic﻿</td>\n",
       "      <td>1</td>\n",
       "    </tr>\n",
       "    <tr>\n",
       "      <td>1</td>\n",
       "      <td>z13yx345uxepetggz04ci5rjcxeohzlrtf4</td>\n",
       "      <td>Pyunghee</td>\n",
       "      <td>2014-07-27T01:57:16</td>\n",
       "      <td>http://www.billboard.com/articles/columns/pop-shop/6174122/fan-army-face-off-round-3 Vote for SONES please....we're against vips....please help us.. &amp;gt;.&amp;lt;﻿</td>\n",
       "      <td>1</td>\n",
       "    </tr>\n",
       "    <tr>\n",
       "      <td>2</td>\n",
       "      <td>z12lsjvi3wa5x1vwh04cibeaqnzrevxajw00k</td>\n",
       "      <td>Erica Ross</td>\n",
       "      <td>2014-07-27T02:51:43</td>\n",
       "      <td>Hey guys! Please join me in my fight to help abused/mistreated animals! All  fund will go to helping pay for vet bills/and or helping them find homes! I  will place an extra emphasis on helping disabled animals, ones otherwise  would just be put to sleep by other animal organizations. Donate please. http://www.gofundme.com/Angels-n-Wingz﻿</td>\n",
       "      <td>1</td>\n",
       "    </tr>\n",
       "    <tr>\n",
       "      <td>3</td>\n",
       "      <td>z13jcjuovxbwfr0ge04cev2ipsjdfdurwck</td>\n",
       "      <td>Aviel Haimov</td>\n",
       "      <td>2014-08-01T12:27:48</td>\n",
       "      <td>http://psnboss.com/?ref=2tGgp3pV6L this is the song﻿</td>\n",
       "      <td>1</td>\n",
       "    </tr>\n",
       "    <tr>\n",
       "      <td>4</td>\n",
       "      <td>z13qybua2yfydzxzj04cgfpqdt2syfx53ms0k</td>\n",
       "      <td>John Bello</td>\n",
       "      <td>2014-08-01T21:04:03</td>\n",
       "      <td>Hey everyone. Watch this trailer!!!!!!!!  http://believemefilm.com?hlr=h2hQBUVB﻿</td>\n",
       "      <td>1</td>\n",
       "    </tr>\n",
       "  </tbody>\n",
       "</table>\n",
       "</div>"
      ],
      "text/plain": [
       "                              COMMENT_ID        AUTHOR                 DATE  \\\n",
       "0  z12pgdhovmrktzm3i23es5d5junftft3f      lekanaVEVO1   2014-07-22T15:27:50   \n",
       "1  z13yx345uxepetggz04ci5rjcxeohzlrtf4    Pyunghee      2014-07-27T01:57:16   \n",
       "2  z12lsjvi3wa5x1vwh04cibeaqnzrevxajw00k  Erica Ross    2014-07-27T02:51:43   \n",
       "3  z13jcjuovxbwfr0ge04cev2ipsjdfdurwck    Aviel Haimov  2014-08-01T12:27:48   \n",
       "4  z13qybua2yfydzxzj04cgfpqdt2syfx53ms0k  John Bello    2014-08-01T21:04:03   \n",
       "\n",
       "                                                                                                                                                                                                                                                                                                                                                CONTENT  \\\n",
       "0  i love this so much. AND also I Generate Free Leads on Auto Pilot &amp; You Can  Too! http://www.MyLeaderGate.com/moretraffic﻿                                                                                                                                                                                                                         \n",
       "1  http://www.billboard.com/articles/columns/pop-shop/6174122/fan-army-face-off-round-3 Vote for SONES please....we're against vips....please help us.. &gt;.&lt;﻿                                                                                                                                                                                        \n",
       "2  Hey guys! Please join me in my fight to help abused/mistreated animals! All  fund will go to helping pay for vet bills/and or helping them find homes! I  will place an extra emphasis on helping disabled animals, ones otherwise  would just be put to sleep by other animal organizations. Donate please. http://www.gofundme.com/Angels-n-Wingz﻿   \n",
       "3  http://psnboss.com/?ref=2tGgp3pV6L this is the song﻿                                                                                                                                                                                                                                                                                                   \n",
       "4  Hey everyone. Watch this trailer!!!!!!!!  http://believemefilm.com?hlr=h2hQBUVB﻿                                                                                                                                                                                                                                                                       \n",
       "\n",
       "   CLASS  \n",
       "0  1      \n",
       "1  1      \n",
       "2  1      \n",
       "3  1      \n",
       "4  1      "
      ]
     },
     "execution_count": 8,
     "metadata": {},
     "output_type": "execute_result"
    }
   ],
   "source": [
    "data4 = pd.read_csv('Youtube02-KatyPerry.csv')\n",
    "data4.head()"
   ]
  },
  {
   "cell_type": "code",
   "execution_count": 9,
   "metadata": {
    "ExecuteTime": {
     "end_time": "2020-05-25T07:44:47.036623Z",
     "start_time": "2020-05-25T07:44:46.919906Z"
    }
   },
   "outputs": [
    {
     "data": {
      "text/html": [
       "<div>\n",
       "<style scoped>\n",
       "    .dataframe tbody tr th:only-of-type {\n",
       "        vertical-align: middle;\n",
       "    }\n",
       "\n",
       "    .dataframe tbody tr th {\n",
       "        vertical-align: top;\n",
       "    }\n",
       "\n",
       "    .dataframe thead th {\n",
       "        text-align: right;\n",
       "    }\n",
       "</style>\n",
       "<table border=\"1\" class=\"dataframe\">\n",
       "  <thead>\n",
       "    <tr style=\"text-align: right;\">\n",
       "      <th></th>\n",
       "      <th>COMMENT_ID</th>\n",
       "      <th>AUTHOR</th>\n",
       "      <th>DATE</th>\n",
       "      <th>CONTENT</th>\n",
       "      <th>CLASS</th>\n",
       "    </tr>\n",
       "  </thead>\n",
       "  <tbody>\n",
       "    <tr>\n",
       "      <td>0</td>\n",
       "      <td>z13uwn2heqndtr5g304ccv5j5kqqzxjadmc0k</td>\n",
       "      <td>Corey Wilson</td>\n",
       "      <td>2015-05-28T21:39:52.376000</td>\n",
       "      <td>&lt;a href=\"http://www.youtube.com/watch?v=KQ6zr6kCPj8&amp;amp;t=2m19s\"&gt;2:19&lt;/a&gt; best part﻿</td>\n",
       "      <td>0</td>\n",
       "    </tr>\n",
       "    <tr>\n",
       "      <td>1</td>\n",
       "      <td>z124jvczaz3dxhnbc04cffk43oiugj25yzo0k</td>\n",
       "      <td>Epic Gaming</td>\n",
       "      <td>2015-05-28T20:07:20.610000</td>\n",
       "      <td>wierd but funny﻿</td>\n",
       "      <td>0</td>\n",
       "    </tr>\n",
       "    <tr>\n",
       "      <td>2</td>\n",
       "      <td>z13tczjy5xj0vjmu5231unho1ofey5zdk</td>\n",
       "      <td>LaS Music</td>\n",
       "      <td>2015-05-28T19:23:35.355000</td>\n",
       "      <td>Hey guys, I&amp;#39;m a human.&lt;br /&gt;&lt;br /&gt;&lt;br /&gt;But I don&amp;#39;t want to be a human, I want to be a sexy fucking giraffe.&lt;br /&gt;&lt;br /&gt;&lt;br /&gt;I already have the money for the surgery to elongate my spinal core, the surgery to change my skin pigment, and everything else! Like this post so others can root me on in my dream!!!!&lt;br /&gt;&lt;br /&gt;&lt;br /&gt;Im fucking with you, I make music, check out my first song! &lt;a rel=\"nofollow\" class=\"ot-hashtag\" href=\"https://plus.google.com/s/%23giraffebruuh\"&gt;#giraffebruuh&lt;/a&gt;﻿</td>\n",
       "      <td>1</td>\n",
       "    </tr>\n",
       "    <tr>\n",
       "      <td>3</td>\n",
       "      <td>z13tzr0hdpnayhqqc04cd3zqqqjkf3ngckk0k</td>\n",
       "      <td>Cheryl Fox</td>\n",
       "      <td>2015-05-28T17:49:35.294000</td>\n",
       "      <td>Party Rock....lol...who wants to shuffle!!!﻿</td>\n",
       "      <td>0</td>\n",
       "    </tr>\n",
       "    <tr>\n",
       "      <td>4</td>\n",
       "      <td>z12pcvix4zedcjvyb04ccr1r0mr2g5xwyng0k</td>\n",
       "      <td>PATRICK_TW</td>\n",
       "      <td>2015-05-28T16:28:26.818000</td>\n",
       "      <td>Party rock﻿</td>\n",
       "      <td>0</td>\n",
       "    </tr>\n",
       "  </tbody>\n",
       "</table>\n",
       "</div>"
      ],
      "text/plain": [
       "                              COMMENT_ID        AUTHOR  \\\n",
       "0  z13uwn2heqndtr5g304ccv5j5kqqzxjadmc0k  Corey Wilson   \n",
       "1  z124jvczaz3dxhnbc04cffk43oiugj25yzo0k  Epic Gaming    \n",
       "2  z13tczjy5xj0vjmu5231unho1ofey5zdk      LaS Music      \n",
       "3  z13tzr0hdpnayhqqc04cd3zqqqjkf3ngckk0k  Cheryl Fox     \n",
       "4  z12pcvix4zedcjvyb04ccr1r0mr2g5xwyng0k  PATRICK_TW     \n",
       "\n",
       "                         DATE  \\\n",
       "0  2015-05-28T21:39:52.376000   \n",
       "1  2015-05-28T20:07:20.610000   \n",
       "2  2015-05-28T19:23:35.355000   \n",
       "3  2015-05-28T17:49:35.294000   \n",
       "4  2015-05-28T16:28:26.818000   \n",
       "\n",
       "                                                                                                                                                                                                                                                                                                                                                                                                                                                                                                                CONTENT  \\\n",
       "0  <a href=\"http://www.youtube.com/watch?v=KQ6zr6kCPj8&amp;t=2m19s\">2:19</a> best part﻿                                                                                                                                                                                                                                                                                                                                                                                                                                   \n",
       "1  wierd but funny﻿                                                                                                                                                                                                                                                                                                                                                                                                                                                                                                       \n",
       "2  Hey guys, I&#39;m a human.<br /><br /><br />But I don&#39;t want to be a human, I want to be a sexy fucking giraffe.<br /><br /><br />I already have the money for the surgery to elongate my spinal core, the surgery to change my skin pigment, and everything else! Like this post so others can root me on in my dream!!!!<br /><br /><br />Im fucking with you, I make music, check out my first song! <a rel=\"nofollow\" class=\"ot-hashtag\" href=\"https://plus.google.com/s/%23giraffebruuh\">#giraffebruuh</a>﻿   \n",
       "3  Party Rock....lol...who wants to shuffle!!!﻿                                                                                                                                                                                                                                                                                                                                                                                                                                                                           \n",
       "4  Party rock﻿                                                                                                                                                                                                                                                                                                                                                                                                                                                                                                            \n",
       "\n",
       "   CLASS  \n",
       "0  0      \n",
       "1  0      \n",
       "2  1      \n",
       "3  0      \n",
       "4  0      "
      ]
     },
     "execution_count": 9,
     "metadata": {},
     "output_type": "execute_result"
    }
   ],
   "source": [
    "data5 = pd.read_csv('Youtube03-LMFAO.csv')\n",
    "data5.head()"
   ]
  },
  {
   "cell_type": "code",
   "execution_count": 10,
   "metadata": {
    "ExecuteTime": {
     "end_time": "2020-05-25T07:44:47.166243Z",
     "start_time": "2020-05-25T07:44:47.042575Z"
    }
   },
   "outputs": [
    {
     "data": {
      "text/html": [
       "<div>\n",
       "<style scoped>\n",
       "    .dataframe tbody tr th:only-of-type {\n",
       "        vertical-align: middle;\n",
       "    }\n",
       "\n",
       "    .dataframe tbody tr th {\n",
       "        vertical-align: top;\n",
       "    }\n",
       "\n",
       "    .dataframe thead th {\n",
       "        text-align: right;\n",
       "    }\n",
       "</style>\n",
       "<table border=\"1\" class=\"dataframe\">\n",
       "  <thead>\n",
       "    <tr style=\"text-align: right;\">\n",
       "      <th></th>\n",
       "      <th>COMMENT_ID</th>\n",
       "      <th>AUTHOR</th>\n",
       "      <th>DATE</th>\n",
       "      <th>CONTENT</th>\n",
       "      <th>CLASS</th>\n",
       "    </tr>\n",
       "  </thead>\n",
       "  <tbody>\n",
       "    <tr>\n",
       "      <td>0</td>\n",
       "      <td>z12rwfnyyrbsefonb232i5ehdxzkjzjs2</td>\n",
       "      <td>Lisa Wellas</td>\n",
       "      <td>NaN</td>\n",
       "      <td>+447935454150 lovely girl talk to me xxx﻿</td>\n",
       "      <td>1</td>\n",
       "    </tr>\n",
       "    <tr>\n",
       "      <td>1</td>\n",
       "      <td>z130wpnwwnyuetxcn23xf5k5ynmkdpjrj04</td>\n",
       "      <td>jason graham</td>\n",
       "      <td>2015-05-29T02:26:10.652000</td>\n",
       "      <td>I always end up coming back to this song&lt;br /&gt;﻿</td>\n",
       "      <td>0</td>\n",
       "    </tr>\n",
       "    <tr>\n",
       "      <td>2</td>\n",
       "      <td>z13vsfqirtavjvu0t22ezrgzyorwxhpf3</td>\n",
       "      <td>Ajkal Khan</td>\n",
       "      <td>NaN</td>\n",
       "      <td>my sister just received over 6,500 new &lt;a rel=\"nofollow\" class=\"ot-hashtag\" href=\"https://plus.google.com/s/%23active\"&gt;#active&lt;/a&gt; youtube views Right now. The only thing she used was pimpmyviews. com﻿</td>\n",
       "      <td>1</td>\n",
       "    </tr>\n",
       "    <tr>\n",
       "      <td>3</td>\n",
       "      <td>z12wjzc4eprnvja4304cgbbizuved35wxcs</td>\n",
       "      <td>Dakota Taylor</td>\n",
       "      <td>2015-05-29T02:13:07.810000</td>\n",
       "      <td>Cool﻿</td>\n",
       "      <td>0</td>\n",
       "    </tr>\n",
       "    <tr>\n",
       "      <td>4</td>\n",
       "      <td>z13xjfr42z3uxdz2223gx5rrzs3dt5hna</td>\n",
       "      <td>Jihad Naser</td>\n",
       "      <td>NaN</td>\n",
       "      <td>Hello I&amp;#39;am from Palastine﻿</td>\n",
       "      <td>1</td>\n",
       "    </tr>\n",
       "  </tbody>\n",
       "</table>\n",
       "</div>"
      ],
      "text/plain": [
       "                            COMMENT_ID         AUTHOR  \\\n",
       "0  z12rwfnyyrbsefonb232i5ehdxzkjzjs2    Lisa Wellas     \n",
       "1  z130wpnwwnyuetxcn23xf5k5ynmkdpjrj04  jason graham    \n",
       "2  z13vsfqirtavjvu0t22ezrgzyorwxhpf3    Ajkal Khan      \n",
       "3  z12wjzc4eprnvja4304cgbbizuved35wxcs  Dakota Taylor   \n",
       "4  z13xjfr42z3uxdz2223gx5rrzs3dt5hna    Jihad Naser     \n",
       "\n",
       "                         DATE  \\\n",
       "0  NaN                          \n",
       "1  2015-05-29T02:26:10.652000   \n",
       "2  NaN                          \n",
       "3  2015-05-29T02:13:07.810000   \n",
       "4  NaN                          \n",
       "\n",
       "                                                                                                                                                                                                     CONTENT  \\\n",
       "0  +447935454150 lovely girl talk to me xxx﻿                                                                                                                                                                   \n",
       "1  I always end up coming back to this song<br />﻿                                                                                                                                                             \n",
       "2  my sister just received over 6,500 new <a rel=\"nofollow\" class=\"ot-hashtag\" href=\"https://plus.google.com/s/%23active\">#active</a> youtube views Right now. The only thing she used was pimpmyviews. com﻿   \n",
       "3  Cool﻿                                                                                                                                                                                                       \n",
       "4  Hello I&#39;am from Palastine﻿                                                                                                                                                                              \n",
       "\n",
       "   CLASS  \n",
       "0  1      \n",
       "1  0      \n",
       "2  1      \n",
       "3  0      \n",
       "4  1      "
      ]
     },
     "execution_count": 10,
     "metadata": {},
     "output_type": "execute_result"
    }
   ],
   "source": [
    "data6 = pd.read_csv('Youtube04-Eminem.csv')\n",
    "data6.head()"
   ]
  },
  {
   "cell_type": "code",
   "execution_count": 11,
   "metadata": {
    "ExecuteTime": {
     "end_time": "2020-05-25T07:44:47.257002Z",
     "start_time": "2020-05-25T07:44:47.171232Z"
    }
   },
   "outputs": [
    {
     "data": {
      "text/html": [
       "<div>\n",
       "<style scoped>\n",
       "    .dataframe tbody tr th:only-of-type {\n",
       "        vertical-align: middle;\n",
       "    }\n",
       "\n",
       "    .dataframe tbody tr th {\n",
       "        vertical-align: top;\n",
       "    }\n",
       "\n",
       "    .dataframe thead th {\n",
       "        text-align: right;\n",
       "    }\n",
       "</style>\n",
       "<table border=\"1\" class=\"dataframe\">\n",
       "  <thead>\n",
       "    <tr style=\"text-align: right;\">\n",
       "      <th></th>\n",
       "      <th>COMMENT_ID</th>\n",
       "      <th>AUTHOR</th>\n",
       "      <th>DATE</th>\n",
       "      <th>CONTENT</th>\n",
       "      <th>CLASS</th>\n",
       "    </tr>\n",
       "  </thead>\n",
       "  <tbody>\n",
       "    <tr>\n",
       "      <td>0</td>\n",
       "      <td>z13lgffb5w3ddx1ul22qy1wxspy5cpkz504</td>\n",
       "      <td>dharma pal</td>\n",
       "      <td>2015-05-29T02:30:18.971000</td>\n",
       "      <td>Nice song﻿</td>\n",
       "      <td>0</td>\n",
       "    </tr>\n",
       "    <tr>\n",
       "      <td>1</td>\n",
       "      <td>z123dbgb0mqjfxbtz22ucjc5jvzcv3ykj</td>\n",
       "      <td>Tiza Arellano</td>\n",
       "      <td>2015-05-29T00:14:48.748000</td>\n",
       "      <td>I love song ﻿</td>\n",
       "      <td>0</td>\n",
       "    </tr>\n",
       "    <tr>\n",
       "      <td>2</td>\n",
       "      <td>z12quxxp2vutflkxv04cihggzt2azl34pms0k</td>\n",
       "      <td>Prìñçeśś Âliś Łøvê Dømíñø Mâđiś™ ﻿</td>\n",
       "      <td>2015-05-28T21:00:08.607000</td>\n",
       "      <td>I love song ﻿</td>\n",
       "      <td>0</td>\n",
       "    </tr>\n",
       "    <tr>\n",
       "      <td>3</td>\n",
       "      <td>z12icv3ysqvlwth2c23eddlykyqut5z1h</td>\n",
       "      <td>Eric Gonzalez</td>\n",
       "      <td>2015-05-28T20:47:12.193000</td>\n",
       "      <td>860,000,000 lets make it first female to reach one billion!! Share it and replay it! ﻿</td>\n",
       "      <td>0</td>\n",
       "    </tr>\n",
       "    <tr>\n",
       "      <td>4</td>\n",
       "      <td>z133stly3kete3tly22petvwdpmghrlli</td>\n",
       "      <td>Analena López</td>\n",
       "      <td>2015-05-28T17:08:29.827000</td>\n",
       "      <td>shakira is best for worldcup﻿</td>\n",
       "      <td>0</td>\n",
       "    </tr>\n",
       "  </tbody>\n",
       "</table>\n",
       "</div>"
      ],
      "text/plain": [
       "                              COMMENT_ID                              AUTHOR  \\\n",
       "0  z13lgffb5w3ddx1ul22qy1wxspy5cpkz504    dharma pal                           \n",
       "1  z123dbgb0mqjfxbtz22ucjc5jvzcv3ykj      Tiza Arellano                        \n",
       "2  z12quxxp2vutflkxv04cihggzt2azl34pms0k  Prìñçeśś Âliś Łøvê Dømíñø Mâđiś™ ﻿   \n",
       "3  z12icv3ysqvlwth2c23eddlykyqut5z1h      Eric Gonzalez                        \n",
       "4  z133stly3kete3tly22petvwdpmghrlli      Analena López                        \n",
       "\n",
       "                         DATE  \\\n",
       "0  2015-05-29T02:30:18.971000   \n",
       "1  2015-05-29T00:14:48.748000   \n",
       "2  2015-05-28T21:00:08.607000   \n",
       "3  2015-05-28T20:47:12.193000   \n",
       "4  2015-05-28T17:08:29.827000   \n",
       "\n",
       "                                                                                  CONTENT  \\\n",
       "0  Nice song﻿                                                                               \n",
       "1  I love song ﻿                                                                            \n",
       "2  I love song ﻿                                                                            \n",
       "3  860,000,000 lets make it first female to reach one billion!! Share it and replay it! ﻿   \n",
       "4  shakira is best for worldcup﻿                                                            \n",
       "\n",
       "   CLASS  \n",
       "0  0      \n",
       "1  0      \n",
       "2  0      \n",
       "3  0      \n",
       "4  0      "
      ]
     },
     "execution_count": 11,
     "metadata": {},
     "output_type": "execute_result"
    }
   ],
   "source": [
    "data7 = pd.read_csv('Youtube05-Shakira.csv')\n",
    "data7.head()"
   ]
  },
  {
   "cell_type": "code",
   "execution_count": 12,
   "metadata": {
    "ExecuteTime": {
     "end_time": "2020-05-25T07:44:47.471460Z",
     "start_time": "2020-05-25T07:44:47.261988Z"
    }
   },
   "outputs": [
    {
     "data": {
      "text/html": [
       "<div>\n",
       "<style scoped>\n",
       "    .dataframe tbody tr th:only-of-type {\n",
       "        vertical-align: middle;\n",
       "    }\n",
       "\n",
       "    .dataframe tbody tr th {\n",
       "        vertical-align: top;\n",
       "    }\n",
       "\n",
       "    .dataframe thead th {\n",
       "        text-align: right;\n",
       "    }\n",
       "</style>\n",
       "<table border=\"1\" class=\"dataframe\">\n",
       "  <thead>\n",
       "    <tr style=\"text-align: right;\">\n",
       "      <th></th>\n",
       "      <th>email</th>\n",
       "      <th>label</th>\n",
       "    </tr>\n",
       "  </thead>\n",
       "  <tbody>\n",
       "    <tr>\n",
       "      <td>0</td>\n",
       "      <td>date wed NUMBER aug NUMBER NUMBER NUMBER NUMBER NUMBER from chris garrigues cwg dated NUMBER NUMBERfaNUMBERd deepeddy com message id NUMBER NUMBER tmda deepeddy vircio com i can t reproduce this error for me it is very repeatable like every time without fail this is the debug log of the pick happening NUMBER NUMBER NUMBER pick_it exec pick inbox list lbrace lbrace subject ftp rbrace rbrace NUMBER NUMBER sequence mercury NUMBER NUMBER NUMBER exec pick inbox list lbrace lbrace subject ftp rbrace rbrace NUMBER NUMBER sequence mercury NUMBER NUMBER NUMBER ftoc_pickmsgs NUMBER hit NUMBER NUMBER NUMBER marking NUMBER hits NUMBER NUMBER NUMBER tkerror syntax error in expression int note if i run the pick command by hand delta pick inbox list lbrace lbrace subject ftp rbrace rbrace NUMBER NUMBER sequence mercury NUMBER hit that s where the NUMBER hit comes from obviously the version of nmh i m using is delta pick version pick nmh NUMBER NUMBER NUMBER compiled on URL at sun mar NUMBER NUMBER NUMBER NUMBER ict NUMBER and the relevant part of my mh_profile delta mhparam pick seq sel list since the pick command works the sequence actually both of them the one that s explicit on the command line from the search popup and the one that comes from mh_profile do get created kre ps this is still using the version of the code form a day ago i haven t been able to reach the cvs repository today local routing issue i think _______________________________________________ exmh workers mailing list exmh workers URL URL</td>\n",
       "      <td>0</td>\n",
       "    </tr>\n",
       "    <tr>\n",
       "      <td>1</td>\n",
       "      <td>martin a posted tassos papadopoulos the greek sculptor behind the plan judged that the limestone of mount kerdylio NUMBER miles east of salonika and not far from the mount athos monastic community was ideal for the patriotic sculpture as well as alexander s granite features NUMBER ft high and NUMBER ft wide a museum a restored amphitheatre and car park for admiring crowds are planned so is this mountain limestone or granite if it s limestone it ll weather pretty fast yahoo groups sponsor NUMBER dvds free s p join now URL to unsubscribe from this group send an email to forteana unsubscribe URL your use of yahoo groups is subject to URL</td>\n",
       "      <td>0</td>\n",
       "    </tr>\n",
       "    <tr>\n",
       "      <td>2</td>\n",
       "      <td>man threatens explosion in moscow thursday august NUMBER NUMBER NUMBER NUMBER pm moscow ap security officers on thursday seized an unidentified man who said he was armed with explosives and threatened to blow up his truck in front of russia s federal security services headquarters in moscow ntv television reported the officers seized an automatic rifle the man was carrying then the man got out of the truck and was taken into custody ntv said no other details were immediately available the man had demanded talks with high government officials the interfax and itar tass news agencies said ekho moskvy radio reported that he wanted to talk with russian president vladimir putin police and security forces rushed to the security service building within blocks of the kremlin red square and the bolshoi ballet and surrounded the man who claimed to have one and a half tons of explosives the news agencies said negotiations continued for about one and a half hours outside the building itar tass and interfax reported citing witnesses the man later drove away from the building under police escort and drove to a street near moscow s olympic penta hotel where authorities held further negotiations with him the moscow police press service said the move appeared to be an attempt by security services to get him to a more secure location yahoo groups sponsor NUMBER dvds free s p join now URL to unsubscribe from this group send an email to forteana unsubscribe URL your use of yahoo groups is subject to URL</td>\n",
       "      <td>0</td>\n",
       "    </tr>\n",
       "    <tr>\n",
       "      <td>3</td>\n",
       "      <td>klez the virus that won t die already the most prolific virus ever klez continues to wreak havoc andrew brandt from the september NUMBER issue of pc world magazine posted thursday august NUMBER NUMBER the klez worm is approaching its seventh month of wriggling across the web making it one of the most persistent viruses ever and experts warn that it may be a harbinger of new viruses that use a combination of pernicious approaches to go from pc to pc antivirus software makers symantec and mcafee both report more than NUMBER new infections daily with no sign of letup at press time the british security firm messagelabs estimates that NUMBER in every NUMBER e mail messages holds a variation of the klez virus and says that klez has already surpassed last summer s sircam as the most prolific virus ever and some newer klez variants aren t merely nuisances they can carry other viruses in them that corrupt your data URL _______________________________________________ irregulars mailing list irregulars URL URL</td>\n",
       "      <td>0</td>\n",
       "    </tr>\n",
       "    <tr>\n",
       "      <td>4</td>\n",
       "      <td>in adding cream to spaghetti carbonara which has the same effect on pasta as making a pizza a deep pie i just had to jump in here as carbonara is one of my favourites to make and ask what the hell are you supposed to use instead of cream i ve never seen a recipe that hasn t used this personally i use low fat creme fraiche because it works quite nicely but the only time i ve seen an supposedly authentic recipe for carbonara it was identical to mine cream eggs and lots of fresh parmesan except for the creme fraiche stew stewart smith scottish microelectronics centre university of edinburgh URL yahoo groups sponsor NUMBER dvds free s p join now URL to unsubscribe from this group send an email to forteana unsubscribe URL your use of yahoo groups is subject to URL</td>\n",
       "      <td>0</td>\n",
       "    </tr>\n",
       "  </tbody>\n",
       "</table>\n",
       "</div>"
      ],
      "text/plain": [
       "                                                                                                                                                                                                                                                                                                                                                                                                                                                                                                                                                                                                                                                                                                                                                                                                                                                                                                                                                                                                                                                                                                                                                                                                                                                                                                                                                                                                                                                                                                                                                                                email  \\\n",
       "0   date wed NUMBER aug NUMBER NUMBER NUMBER NUMBER NUMBER from chris garrigues cwg dated NUMBER NUMBERfaNUMBERd deepeddy com message id NUMBER NUMBER tmda deepeddy vircio com i can t reproduce this error for me it is very repeatable like every time without fail this is the debug log of the pick happening NUMBER NUMBER NUMBER pick_it exec pick inbox list lbrace lbrace subject ftp rbrace rbrace NUMBER NUMBER sequence mercury NUMBER NUMBER NUMBER exec pick inbox list lbrace lbrace subject ftp rbrace rbrace NUMBER NUMBER sequence mercury NUMBER NUMBER NUMBER ftoc_pickmsgs NUMBER hit NUMBER NUMBER NUMBER marking NUMBER hits NUMBER NUMBER NUMBER tkerror syntax error in expression int note if i run the pick command by hand delta pick inbox list lbrace lbrace subject ftp rbrace rbrace NUMBER NUMBER sequence mercury NUMBER hit that s where the NUMBER hit comes from obviously the version of nmh i m using is delta pick version pick nmh NUMBER NUMBER NUMBER compiled on URL at sun mar NUMBER NUMBER NUMBER NUMBER ict NUMBER and the relevant part of my mh_profile delta mhparam pick seq sel list since the pick command works the sequence actually both of them the one that s explicit on the command line from the search popup and the one that comes from mh_profile do get created kre ps this is still using the version of the code form a day ago i haven t been able to reach the cvs repository today local routing issue i think _______________________________________________ exmh workers mailing list exmh workers URL URL    \n",
       "1  martin a posted tassos papadopoulos the greek sculptor behind the plan judged that the limestone of mount kerdylio NUMBER miles east of salonika and not far from the mount athos monastic community was ideal for the patriotic sculpture as well as alexander s granite features NUMBER ft high and NUMBER ft wide a museum a restored amphitheatre and car park for admiring crowds are planned so is this mountain limestone or granite if it s limestone it ll weather pretty fast yahoo groups sponsor NUMBER dvds free s p join now URL to unsubscribe from this group send an email to forteana unsubscribe URL your use of yahoo groups is subject to URL                                                                                                                                                                                                                                                                                                                                                                                                                                                                                                                                                                                                                                                                                                                                                                                                                                                                                                                   \n",
       "2  man threatens explosion in moscow thursday august NUMBER NUMBER NUMBER NUMBER pm moscow ap security officers on thursday seized an unidentified man who said he was armed with explosives and threatened to blow up his truck in front of russia s federal security services headquarters in moscow ntv television reported the officers seized an automatic rifle the man was carrying then the man got out of the truck and was taken into custody ntv said no other details were immediately available the man had demanded talks with high government officials the interfax and itar tass news agencies said ekho moskvy radio reported that he wanted to talk with russian president vladimir putin police and security forces rushed to the security service building within blocks of the kremlin red square and the bolshoi ballet and surrounded the man who claimed to have one and a half tons of explosives the news agencies said negotiations continued for about one and a half hours outside the building itar tass and interfax reported citing witnesses the man later drove away from the building under police escort and drove to a street near moscow s olympic penta hotel where authorities held further negotiations with him the moscow police press service said the move appeared to be an attempt by security services to get him to a more secure location yahoo groups sponsor NUMBER dvds free s p join now URL to unsubscribe from this group send an email to forteana unsubscribe URL your use of yahoo groups is subject to URL                 \n",
       "3  klez the virus that won t die already the most prolific virus ever klez continues to wreak havoc andrew brandt from the september NUMBER issue of pc world magazine posted thursday august NUMBER NUMBER the klez worm is approaching its seventh month of wriggling across the web making it one of the most persistent viruses ever and experts warn that it may be a harbinger of new viruses that use a combination of pernicious approaches to go from pc to pc antivirus software makers symantec and mcafee both report more than NUMBER new infections daily with no sign of letup at press time the british security firm messagelabs estimates that NUMBER in every NUMBER e mail messages holds a variation of the klez virus and says that klez has already surpassed last summer s sircam as the most prolific virus ever and some newer klez variants aren t merely nuisances they can carry other viruses in them that corrupt your data URL _______________________________________________ irregulars mailing list irregulars URL URL                                                                                                                                                                                                                                                                                                                                                                                                                                                                                                                               \n",
       "4   in adding cream to spaghetti carbonara which has the same effect on pasta as making a pizza a deep pie i just had to jump in here as carbonara is one of my favourites to make and ask what the hell are you supposed to use instead of cream i ve never seen a recipe that hasn t used this personally i use low fat creme fraiche because it works quite nicely but the only time i ve seen an supposedly authentic recipe for carbonara it was identical to mine cream eggs and lots of fresh parmesan except for the creme fraiche stew stewart smith scottish microelectronics centre university of edinburgh URL yahoo groups sponsor NUMBER dvds free s p join now URL to unsubscribe from this group send an email to forteana unsubscribe URL your use of yahoo groups is subject to URL                                                                                                                                                                                                                                                                                                                                                                                                                                                                                                                                                                                                                                                                                                                                                                                   \n",
       "\n",
       "   label  \n",
       "0  0      \n",
       "1  0      \n",
       "2  0      \n",
       "3  0      \n",
       "4  0      "
      ]
     },
     "execution_count": 12,
     "metadata": {},
     "output_type": "execute_result"
    }
   ],
   "source": [
    "data8 = pd.read_csv('spam_or_not_spam.csv')\n",
    "data8.head()"
   ]
  },
  {
   "cell_type": "code",
   "execution_count": 13,
   "metadata": {
    "ExecuteTime": {
     "end_time": "2020-05-25T07:44:48.443826Z",
     "start_time": "2020-05-25T07:44:47.476414Z"
    },
    "scrolled": false
   },
   "outputs": [
    {
     "data": {
      "application/vnd.jupyter.widget-view+json": {
       "model_id": "3a74aae54ead426880ab5e8e99ed60fb",
       "version_major": 2,
       "version_minor": 0
      },
      "text/plain": [
       "HBox(children=(IntProgress(value=1, bar_style='info', max=1), HTML(value='')))"
      ]
     },
     "metadata": {},
     "output_type": "display_data"
    },
    {
     "name": "stdout",
     "output_type": "stream",
     "text": [
      "\n"
     ]
    },
    {
     "data": {
      "application/vnd.jupyter.widget-view+json": {
       "model_id": "7166e4068ec64ee2ad823716d722b76c",
       "version_major": 2,
       "version_minor": 0
      },
      "text/plain": [
       "HBox(children=(IntProgress(value=0, max=2551), HTML(value='')))"
      ]
     },
     "metadata": {},
     "output_type": "display_data"
    },
    {
     "name": "stdout",
     "output_type": "stream",
     "text": [
      "\n"
     ]
    },
    {
     "data": {
      "application/vnd.jupyter.widget-view+json": {
       "model_id": "2ad9d99c681e42d891fd27fc8a3e7173",
       "version_major": 2,
       "version_minor": 0
      },
      "text/plain": [
       "HBox(children=(IntProgress(value=0, max=501), HTML(value='')))"
      ]
     },
     "metadata": {},
     "output_type": "display_data"
    },
    {
     "name": "stdout",
     "output_type": "stream",
     "text": [
      "\n"
     ]
    },
    {
     "data": {
      "text/html": [
       "<div>\n",
       "<style scoped>\n",
       "    .dataframe tbody tr th:only-of-type {\n",
       "        vertical-align: middle;\n",
       "    }\n",
       "\n",
       "    .dataframe tbody tr th {\n",
       "        vertical-align: top;\n",
       "    }\n",
       "\n",
       "    .dataframe thead th {\n",
       "        text-align: right;\n",
       "    }\n",
       "</style>\n",
       "<table border=\"1\" class=\"dataframe\">\n",
       "  <thead>\n",
       "    <tr style=\"text-align: right;\">\n",
       "      <th></th>\n",
       "      <th>0</th>\n",
       "      <th>1</th>\n",
       "    </tr>\n",
       "  </thead>\n",
       "  <tbody>\n",
       "    <tr>\n",
       "      <td>0</td>\n",
       "      <td>From exmh-workers-admin@redhat.com  Thu Aug 22 12:36:23 2002\\nReturn-Path: &lt;exmh-workers-admin@example.com&gt;\\nDelivered-To: zzzz@localhost.netnoteinc.com\\nReceived: from localhost (localhost [127.0.0.1])\\n\\tby phobos.labs.netnoteinc.com (Postfix) with ESMTP id D03E543C36\\n\\tfor &lt;zzzz@localhost&gt;; Thu, 22 Aug 2002 07:36:16 -0400 (EDT)\\nReceived: from phobos [127.0.0.1]\\n\\tby localhost with IMAP (fetchmail-5.9.0)\\n\\tfor zzzz@localhost (single-drop); Thu, 22 Aug 2002 12:36:16 +0100 (IST)\\nReceived: from listman.example.com (listman.example.com [66.187.233.211]) by\\n    dogma.slashnull.org (8.11.6/8.11.6) with ESMTP id g7MBYrZ04811 for\\n    &lt;zzzz-exmh@example.com&gt;; Thu, 22 Aug 2002 12:34:53 +0100\\nReceived: from listman.example.com (localhost.localdomain [127.0.0.1]) by\\n    listman.redhat.com (Postfix) with ESMTP id 8386540858; Thu, 22 Aug 2002\\n    07:35:02 -0400 (EDT)\\nDelivered-To: exmh-workers@listman.example.com\\nReceived: from int-mx1.corp.example.com (int-mx1.corp.example.com\\n    [172.16.52.254]) by listman.redhat.com (Postfix) with ESMTP id 10CF8406D7\\n    for &lt;exmh-workers@listman.redhat.com&gt;; Thu, 22 Aug 2002 07:34:10 -0400\\n    (EDT)\\nReceived: (from mail@localhost) by int-mx1.corp.example.com (8.11.6/8.11.6)\\n    id g7MBY7g11259 for exmh-workers@listman.redhat.com; Thu, 22 Aug 2002\\n    07:34:07 -0400\\nReceived: from mx1.example.com (mx1.example.com [172.16.48.31]) by\\n    int-mx1.corp.redhat.com (8.11.6/8.11.6) with SMTP id g7MBY7Y11255 for\\n    &lt;exmh-workers@redhat.com&gt;; Thu, 22 Aug 2002 07:34:07 -0400\\nReceived: from ratree.psu.ac.th ([202.28.97.6]) by mx1.example.com\\n    (8.11.6/8.11.6) with SMTP id g7MBIhl25223 for &lt;exmh-workers@redhat.com&gt;;\\n    Thu, 22 Aug 2002 07:18:55 -0400\\nReceived: from delta.cs.mu.OZ.AU (delta.coe.psu.ac.th [172.30.0.98]) by\\n    ratree.psu.ac.th (8.11.6/8.11.6) with ESMTP id g7MBWel29762;\\n    Thu, 22 Aug 2002 18:32:40 +0700 (ICT)\\nReceived: from munnari.OZ.AU (localhost [127.0.0.1]) by delta.cs.mu.OZ.AU\\n    (8.11.6/8.11.6) with ESMTP id g7MBQPW13260; Thu, 22 Aug 2002 18:26:25\\n    +0700 (ICT)\\nFrom: Robert Elz &lt;kre@munnari.OZ.AU&gt;\\nTo: Chris Garrigues &lt;cwg-dated-1030377287.06fa6d@DeepEddy.Com&gt;\\nCc: exmh-workers@example.com\\nSubject: Re: New Sequences Window\\nIn-Reply-To: &lt;1029945287.4797.TMDA@deepeddy.vircio.com&gt;\\nReferences: &lt;1029945287.4797.TMDA@deepeddy.vircio.com&gt;\\n    &lt;1029882468.3116.TMDA@deepeddy.vircio.com&gt; &lt;9627.1029933001@munnari.OZ.AU&gt;\\n    &lt;1029943066.26919.TMDA@deepeddy.vircio.com&gt;\\n    &lt;1029944441.398.TMDA@deepeddy.vircio.com&gt;\\nMIME-Version: 1.0\\nContent-Type: text/plain; charset=us-ascii\\nMessage-Id: &lt;13258.1030015585@munnari.OZ.AU&gt;\\nX-Loop: exmh-workers@example.com\\nSender: exmh-workers-admin@example.com\\nErrors-To: exmh-workers-admin@example.com\\nX-Beenthere: exmh-workers@example.com\\nX-Mailman-Version: 2.0.1\\nPrecedence: bulk\\nList-Help: &lt;mailto:exmh-workers-request@example.com?subject=help&gt;\\nList-Post: &lt;mailto:exmh-workers@example.com&gt;\\nList-Subscribe: &lt;https://listman.example.com/mailman/listinfo/exmh-workers&gt;,\\n    &lt;mailto:exmh-workers-request@redhat.com?subject=subscribe&gt;\\nList-Id: Discussion list for EXMH developers &lt;exmh-workers.example.com&gt;\\nList-Unsubscribe: &lt;https://listman.example.com/mailman/listinfo/exmh-workers&gt;,\\n    &lt;mailto:exmh-workers-request@redhat.com?subject=unsubscribe&gt;\\nList-Archive: &lt;https://listman.example.com/mailman/private/exmh-workers/&gt;\\nDate: Thu, 22 Aug 2002 18:26:25 +0700\\n\\n    Date:        Wed, 21 Aug 2002 10:54:46 -0500\\n    From:        Chris Garrigues &lt;cwg-dated-1030377287.06fa6d@DeepEddy.Com&gt;\\n    Message-ID:  &lt;1029945287.4797.TMDA@deepeddy.vircio.com&gt;\\n\\n\\n  | I can't reproduce this error.\\n\\nFor me it is very repeatable... (like every time, without fail).\\n\\nThis is the debug log of the pick happening ...\\n\\n18:19:03 Pick_It {exec pick +inbox -list -lbrace -lbrace -subject ftp -rbrace -rbrace} {4852-4852 -sequence mercury}\\n18:19:03 exec pick +inbox -list -lbrace -lbrace -subject ftp -rbrace -rbrace 4852-4852 -sequence mercury\\n18:19:04 Ftoc_PickMsgs {{1 hit}}\\n18:19:04 Marking 1 hits\\n18:19:04 tkerror: syntax error in expression \"int ...\\n\\nNote, if I run the pick command by hand ...\\n\\ndelta$ pick +inbox -list -lbrace -lbrace -subject ftp -rbrace -rbrace  4852-4852 -sequence mercury\\n1 hit\\n\\nThat's where the \"1 hit\" comes from (obviously).  The version of nmh I'm\\nusing is ...\\n\\ndelta$ pick -version\\npick -- nmh-1.0.4 [compiled on fuchsia.cs.mu.OZ.AU at Sun Mar 17 14:55:56 ICT 2002]\\n\\nAnd the relevant part of my .mh_profile ...\\n\\ndelta$ mhparam pick\\n-seq sel -list\\n\\n\\nSince the pick command works, the sequence (actually, both of them, the\\none that's explicit on the command line, from the search popup, and the\\none that comes from .mh_profile) do get created.\\n\\nkre\\n\\nps: this is still using the version of the code form a day ago, I haven't\\nbeen able to reach the cvs repository today (local routing issue I think).\\n\\n\\n\\n_______________________________________________\\nExmh-workers mailing list\\nExmh-workers@redhat.com\\nhttps://listman.redhat.com/mailman/listinfo/exmh-workers\\n\\n</td>\n",
       "      <td>ham</td>\n",
       "    </tr>\n",
       "    <tr>\n",
       "      <td>1</td>\n",
       "      <td>From Steve_Burt@cursor-system.com  Thu Aug 22 12:46:39 2002\\nReturn-Path: &lt;Steve_Burt@cursor-system.com&gt;\\nDelivered-To: zzzz@localhost.netnoteinc.com\\nReceived: from localhost (localhost [127.0.0.1])\\n\\tby phobos.labs.netnoteinc.com (Postfix) with ESMTP id BE12E43C34\\n\\tfor &lt;zzzz@localhost&gt;; Thu, 22 Aug 2002 07:46:38 -0400 (EDT)\\nReceived: from phobos [127.0.0.1]\\n\\tby localhost with IMAP (fetchmail-5.9.0)\\n\\tfor zzzz@localhost (single-drop); Thu, 22 Aug 2002 12:46:38 +0100 (IST)\\nReceived: from n20.grp.scd.yahoo.com (n20.grp.scd.yahoo.com\\n    [66.218.66.76]) by dogma.slashnull.org (8.11.6/8.11.6) with SMTP id\\n    g7MBkTZ05087 for &lt;zzzz@example.com&gt;; Thu, 22 Aug 2002 12:46:29 +0100\\nX-Egroups-Return: sentto-2242572-52726-1030016790-zzzz=example.com@returns.groups.yahoo.com\\nReceived: from [66.218.67.196] by n20.grp.scd.yahoo.com with NNFMP;\\n    22 Aug 2002 11:46:30 -0000\\nX-Sender: steve.burt@cursor-system.com\\nX-Apparently-To: zzzzteana@yahoogroups.com\\nReceived: (EGP: mail-8_1_0_1); 22 Aug 2002 11:46:29 -0000\\nReceived: (qmail 11764 invoked from network); 22 Aug 2002 11:46:29 -0000\\nReceived: from unknown (66.218.66.217) by m3.grp.scd.yahoo.com with QMQP;\\n    22 Aug 2002 11:46:29 -0000\\nReceived: from unknown (HELO mailgateway.cursor-system.com) (62.189.7.27)\\n    by mta2.grp.scd.yahoo.com with SMTP; 22 Aug 2002 11:46:29 -0000\\nReceived: from exchange1.cps.local (unverified) by\\n    mailgateway.cursor-system.com (Content Technologies SMTPRS 4.2.10) with\\n    ESMTP id &lt;T5cde81f695ac1d100407d@mailgateway.cursor-system.com&gt; for\\n    &lt;forteana@yahoogroups.com&gt;; Thu, 22 Aug 2002 13:14:10 +0100\\nReceived: by exchange1.cps.local with Internet Mail Service (5.5.2653.19)\\n    id &lt;PXX6AT23&gt;; Thu, 22 Aug 2002 12:46:27 +0100\\nMessage-Id: &lt;5EC2AD6D2314D14FB64BDA287D25D9EF12B4F6@exchange1.cps.local&gt;\\nTo: \"'zzzzteana@yahoogroups.com'\" &lt;zzzzteana@yahoogroups.com&gt;\\nX-Mailer: Internet Mail Service (5.5.2653.19)\\nX-Egroups-From: Steve Burt &lt;steve.burt@cursor-system.com&gt;\\nFrom: Steve Burt &lt;Steve_Burt@cursor-system.com&gt;\\nX-Yahoo-Profile: pyruse\\nMIME-Version: 1.0\\nMailing-List: list zzzzteana@yahoogroups.com; contact\\n    forteana-owner@yahoogroups.com\\nDelivered-To: mailing list zzzzteana@yahoogroups.com\\nPrecedence: bulk\\nList-Unsubscribe: &lt;mailto:zzzzteana-unsubscribe@yahoogroups.com&gt;\\nDate: Thu, 22 Aug 2002 12:46:18 +0100\\nSubject: [zzzzteana] RE: Alexander\\nReply-To: zzzzteana@yahoogroups.com\\nContent-Type: text/plain; charset=US-ASCII\\nContent-Transfer-Encoding: 7bit\\n\\nMartin A posted:\\nTassos Papadopoulos, the Greek sculptor behind the plan, judged that the\\n limestone of Mount Kerdylio, 70 miles east of Salonika and not far from the\\n Mount Athos monastic community, was ideal for the patriotic sculpture. \\n \\n As well as Alexander's granite features, 240 ft high and 170 ft wide, a\\n museum, a restored amphitheatre and car park for admiring crowds are\\nplanned\\n---------------------\\nSo is this mountain limestone or granite?\\nIf it's limestone, it'll weather pretty fast.\\n\\n------------------------ Yahoo! Groups Sponsor ---------------------~--&gt;\\n4 DVDs Free +s&amp;p Join Now\\nhttp://us.click.yahoo.com/pt6YBB/NXiEAA/mG3HAA/7gSolB/TM\\n---------------------------------------------------------------------~-&gt;\\n\\nTo unsubscribe from this group, send an email to:\\nforteana-unsubscribe@egroups.com\\n\\n \\n\\nYour use of Yahoo! Groups is subject to http://docs.yahoo.com/info/terms/ \\n\\n\\n\\n</td>\n",
       "      <td>ham</td>\n",
       "    </tr>\n",
       "    <tr>\n",
       "      <td>2</td>\n",
       "      <td>From timc@2ubh.com  Thu Aug 22 13:52:59 2002\\nReturn-Path: &lt;timc@2ubh.com&gt;\\nDelivered-To: zzzz@localhost.netnoteinc.com\\nReceived: from localhost (localhost [127.0.0.1])\\n\\tby phobos.labs.netnoteinc.com (Postfix) with ESMTP id 0314547C66\\n\\tfor &lt;zzzz@localhost&gt;; Thu, 22 Aug 2002 08:52:58 -0400 (EDT)\\nReceived: from phobos [127.0.0.1]\\n\\tby localhost with IMAP (fetchmail-5.9.0)\\n\\tfor zzzz@localhost (single-drop); Thu, 22 Aug 2002 13:52:59 +0100 (IST)\\nReceived: from n16.grp.scd.yahoo.com (n16.grp.scd.yahoo.com\\n    [66.218.66.71]) by dogma.slashnull.org (8.11.6/8.11.6) with SMTP id\\n    g7MCrdZ07070 for &lt;zzzz@example.com&gt;; Thu, 22 Aug 2002 13:53:39 +0100\\nX-Egroups-Return: sentto-2242572-52733-1030020820-zzzz=example.com@returns.groups.yahoo.com\\nReceived: from [66.218.67.198] by n16.grp.scd.yahoo.com with NNFMP;\\n    22 Aug 2002 12:53:40 -0000\\nX-Sender: timc@2ubh.com\\nX-Apparently-To: zzzzteana@yahoogroups.com\\nReceived: (EGP: mail-8_1_0_1); 22 Aug 2002 12:53:39 -0000\\nReceived: (qmail 76099 invoked from network); 22 Aug 2002 12:53:39 -0000\\nReceived: from unknown (66.218.66.218) by m5.grp.scd.yahoo.com with QMQP;\\n    22 Aug 2002 12:53:39 -0000\\nReceived: from unknown (HELO rhenium.btinternet.com) (194.73.73.93) by\\n    mta3.grp.scd.yahoo.com with SMTP; 22 Aug 2002 12:53:39 -0000\\nReceived: from host217-36-23-185.in-addr.btopenworld.com ([217.36.23.185])\\n    by rhenium.btinternet.com with esmtp (Exim 3.22 #8) id 17hrT0-0004gj-00\\n    for forteana@yahoogroups.com; Thu, 22 Aug 2002 13:53:38 +0100\\nX-Mailer: Microsoft Outlook Express Macintosh Edition - 4.5 (0410)\\nTo: zzzzteana &lt;zzzzteana@yahoogroups.com&gt;\\nX-Priority: 3\\nMessage-Id: &lt;E17hrT0-0004gj-00@rhenium.btinternet.com&gt;\\nFrom: \"Tim Chapman\" &lt;timc@2ubh.com&gt;\\nX-Yahoo-Profile: tim2ubh\\nMIME-Version: 1.0\\nMailing-List: list zzzzteana@yahoogroups.com; contact\\n    forteana-owner@yahoogroups.com\\nDelivered-To: mailing list zzzzteana@yahoogroups.com\\nPrecedence: bulk\\nList-Unsubscribe: &lt;mailto:zzzzteana-unsubscribe@yahoogroups.com&gt;\\nDate: Thu, 22 Aug 2002 13:52:38 +0100\\nSubject: [zzzzteana] Moscow bomber\\nReply-To: zzzzteana@yahoogroups.com\\nContent-Type: text/plain; charset=US-ASCII\\nContent-Transfer-Encoding: 7bit\\n\\nMan Threatens Explosion In Moscow \\n\\nThursday August 22, 2002 1:40 PM\\nMOSCOW (AP) - Security officers on Thursday seized an unidentified man who\\nsaid he was armed with explosives and threatened to blow up his truck in\\nfront of Russia's Federal Security Services headquarters in Moscow, NTV\\ntelevision reported.\\nThe officers seized an automatic rifle the man was carrying, then the man\\ngot out of the truck and was taken into custody, NTV said. No other details\\nwere immediately available.\\nThe man had demanded talks with high government officials, the Interfax and\\nITAR-Tass news agencies said. Ekho Moskvy radio reported that he wanted to\\ntalk with Russian President Vladimir Putin.\\nPolice and security forces rushed to the Security Service building, within\\nblocks of the Kremlin, Red Square and the Bolshoi Ballet, and surrounded the\\nman, who claimed to have one and a half tons of explosives, the news\\nagencies said. Negotiations continued for about one and a half hours outside\\nthe building, ITAR-Tass and Interfax reported, citing witnesses.\\nThe man later drove away from the building, under police escort, and drove\\nto a street near Moscow's Olympic Penta Hotel, where authorities held\\nfurther negotiations with him, the Moscow police press service said. The\\nmove appeared to be an attempt by security services to get him to a more\\nsecure location. \\n\\n------------------------ Yahoo! Groups Sponsor ---------------------~--&gt;\\n4 DVDs Free +s&amp;p Join Now\\nhttp://us.click.yahoo.com/pt6YBB/NXiEAA/mG3HAA/7gSolB/TM\\n---------------------------------------------------------------------~-&gt;\\n\\nTo unsubscribe from this group, send an email to:\\nforteana-unsubscribe@egroups.com\\n\\n \\n\\nYour use of Yahoo! Groups is subject to http://docs.yahoo.com/info/terms/ \\n\\n\\n\\n</td>\n",
       "      <td>ham</td>\n",
       "    </tr>\n",
       "    <tr>\n",
       "      <td>3</td>\n",
       "      <td>From irregulars-admin@tb.tf  Thu Aug 22 14:23:39 2002\\nReturn-Path: &lt;irregulars-admin@tb.tf&gt;\\nDelivered-To: zzzz@localhost.netnoteinc.com\\nReceived: from localhost (localhost [127.0.0.1])\\n\\tby phobos.labs.netnoteinc.com (Postfix) with ESMTP id 9DAE147C66\\n\\tfor &lt;zzzz@localhost&gt;; Thu, 22 Aug 2002 09:23:38 -0400 (EDT)\\nReceived: from phobos [127.0.0.1]\\n\\tby localhost with IMAP (fetchmail-5.9.0)\\n\\tfor zzzz@localhost (single-drop); Thu, 22 Aug 2002 14:23:38 +0100 (IST)\\nReceived: from web.tb.tf (route-64-131-126-36.telocity.com\\n    [64.131.126.36]) by dogma.slashnull.org (8.11.6/8.11.6) with ESMTP id\\n    g7MDGOZ07922 for &lt;zzzz-irr@example.com&gt;; Thu, 22 Aug 2002 14:16:24 +0100\\nReceived: from web.tb.tf (localhost.localdomain [127.0.0.1]) by web.tb.tf\\n    (8.11.6/8.11.6) with ESMTP id g7MDP9I16418; Thu, 22 Aug 2002 09:25:09\\n    -0400\\nReceived: from red.harvee.home (red [192.168.25.1] (may be forged)) by\\n    web.tb.tf (8.11.6/8.11.6) with ESMTP id g7MDO4I16408 for\\n    &lt;irregulars@tb.tf&gt;; Thu, 22 Aug 2002 09:24:04 -0400\\nReceived: from prserv.net (out4.prserv.net [32.97.166.34]) by\\n    red.harvee.home (8.11.6/8.11.6) with ESMTP id g7MDFBD29237 for\\n    &lt;irregulars@tb.tf&gt;; Thu, 22 Aug 2002 09:15:12 -0400\\nReceived: from [209.202.248.109]\\n    (slip-32-103-249-10.ma.us.prserv.net[32.103.249.10]) by prserv.net (out4)\\n    with ESMTP id &lt;2002082213150220405qu8jce&gt;; Thu, 22 Aug 2002 13:15:07 +0000\\nMIME-Version: 1.0\\nX-Sender: @ (Unverified)\\nMessage-Id: &lt;p04330137b98a941c58a8@[209.202.248.109]&gt;\\nTo: undisclosed-recipient: ;\\nFrom: Monty Solomon &lt;monty@roscom.com&gt;\\nContent-Type: text/plain; charset=\"us-ascii\"\\nSubject: [IRR] Klez: The Virus That  Won't Die\\nSender: irregulars-admin@tb.tf\\nErrors-To: irregulars-admin@tb.tf\\nX-Beenthere: irregulars@tb.tf\\nX-Mailman-Version: 2.0.6\\nPrecedence: bulk\\nList-Help: &lt;mailto:irregulars-request@tb.tf?subject=help&gt;\\nList-Post: &lt;mailto:irregulars@tb.tf&gt;\\nList-Subscribe: &lt;http://tb.tf/mailman/listinfo/irregulars&gt;,\\n    &lt;mailto:irregulars-request@tb.tf?subject=subscribe&gt;\\nList-Id: New home of the TBTF Irregulars mailing list &lt;irregulars.tb.tf&gt;\\nList-Unsubscribe: &lt;http://tb.tf/mailman/listinfo/irregulars&gt;,\\n    &lt;mailto:irregulars-request@tb.tf?subject=unsubscribe&gt;\\nList-Archive: &lt;http://tb.tf/mailman/private/irregulars/&gt;\\nDate: Thu, 22 Aug 2002 09:15:25 -0400\\n\\nKlez: The Virus That Won't Die\\n \\nAlready the most prolific virus ever, Klez continues to wreak havoc.\\n\\nAndrew Brandt\\n&gt;&gt;From the September 2002 issue of PC World magazine\\nPosted Thursday, August 01, 2002\\n\\n\\nThe Klez worm is approaching its seventh month of wriggling across \\nthe Web, making it one of the most persistent viruses ever. And \\nexperts warn that it may be a harbinger of new viruses that use a \\ncombination of pernicious approaches to go from PC to PC.\\n\\nAntivirus software makers Symantec and McAfee both report more than \\n2000 new infections daily, with no sign of letup at press time. The \\nBritish security firm MessageLabs estimates that 1 in every 300 \\ne-mail messages holds a variation of the Klez virus, and says that \\nKlez has already surpassed last summer's SirCam as the most prolific \\nvirus ever.\\n\\nAnd some newer Klez variants aren't merely nuisances--they can carry \\nother viruses in them that corrupt your data.\\n\\n...\\n\\nhttp://www.pcworld.com/news/article/0,aid,103259,00.asp\\n_______________________________________________\\nIrregulars mailing list\\nIrregulars@tb.tf\\nhttp://tb.tf/mailman/listinfo/irregulars\\n\\n</td>\n",
       "      <td>ham</td>\n",
       "    </tr>\n",
       "    <tr>\n",
       "      <td>4</td>\n",
       "      <td>From exmh-users-admin@redhat.com  Thu Aug 22 14:44:07 2002\\nReturn-Path: &lt;exmh-users-admin@example.com&gt;\\nDelivered-To: zzzz@localhost.netnoteinc.com\\nReceived: from localhost (localhost [127.0.0.1])\\n\\tby phobos.labs.netnoteinc.com (Postfix) with ESMTP id 985B247C67\\n\\tfor &lt;zzzz@localhost&gt;; Thu, 22 Aug 2002 09:44:04 -0400 (EDT)\\nReceived: from phobos [127.0.0.1]\\n\\tby localhost with IMAP (fetchmail-5.9.0)\\n\\tfor zzzz@localhost (single-drop); Thu, 22 Aug 2002 14:44:04 +0100 (IST)\\nReceived: from listman.example.com (listman.example.com [66.187.233.211]) by\\n    dogma.slashnull.org (8.11.6/8.11.6) with ESMTP id g7MDgEZ08598 for\\n    &lt;zzzz-exmh@example.com&gt;; Thu, 22 Aug 2002 14:42:19 +0100\\nReceived: from listman.example.com (localhost.localdomain [127.0.0.1]) by\\n    listman.redhat.com (Postfix) with ESMTP id F26113EE9A; Thu, 22 Aug 2002\\n    09:42:15 -0400 (EDT)\\nDelivered-To: exmh-users@listman.example.com\\nReceived: from int-mx1.corp.example.com (int-mx1.corp.example.com\\n    [172.16.52.254]) by listman.redhat.com (Postfix) with ESMTP id 4ACEF3F4A2\\n    for &lt;exmh-users@listman.redhat.com&gt;; Thu, 22 Aug 2002 09:38:03 -0400 (EDT)\\nReceived: (from mail@localhost) by int-mx1.corp.example.com (8.11.6/8.11.6)\\n    id g7MDc0601591 for exmh-users@listman.redhat.com; Thu, 22 Aug 2002\\n    09:38:00 -0400\\nReceived: from mx1.example.com (mx1.example.com [172.16.48.31]) by\\n    int-mx1.corp.redhat.com (8.11.6/8.11.6) with SMTP id g7MDc0Y01587 for\\n    &lt;exmh-users@redhat.com&gt;; Thu, 22 Aug 2002 09:38:00 -0400\\nReceived: from mta03bw.bigpond.com (mta03bw.bigpond.com [139.134.6.86]) by\\n    mx1.redhat.com (8.11.6/8.11.6) with SMTP id g7MDNVl14108 for\\n    &lt;exmh-users@redhat.com&gt;; Thu, 22 Aug 2002 09:23:31 -0400\\nReceived: from hobbit.linuxworks.com.au ([144.135.24.81]) by\\n    mta03bw.bigpond.com (Netscape Messaging Server 4.15 mta03bw May 23 2002\\n    23:53:28) with SMTP id H18Z7300.F6G for &lt;exmh-users@redhat.com&gt;;\\n    Thu, 22 Aug 2002 23:37:51 +1000\\nReceived: from CPE-203-51-220-31.qld.bigpond.net.au ([203.51.220.31]) by\\n    bwmam05.mailsvc.email.bigpond.com(MailRouter V3.0n 44/32989362);\\n    22 Aug 2002 23:37:51\\nReceived: (from tony@localhost) by hobbit.linuxworks.com.au\\n    (8.11.6/8.11.6) id g7MDaWX26868; Thu, 22 Aug 2002 23:36:32 +1000\\nMessage-Id: &lt;200208221336.g7MDaWX26868@hobbit.linuxworks.com.au.nospam&gt;\\nTo: Exmh Users Mailing List &lt;exmh-users@example.com&gt;\\nFrom: Tony Nugent &lt;tony@linuxworks.com.au&gt;\\nX-Face: ]IrGs{LrofDtGfsrG!As5=G'2HRr2zt:H&gt;djXb5@v|Dr!jOelxzAZ`!}(\"]}]\\n    Q!)1w#X;)nLlb'XhSu,QL&gt;;)L/l06wsI?rv-xy6%Y1e\"BUiV%)mU;]f-5&lt;#U6\\n    UthZ0QrF7\\_p#q}*Cn}jd|XT~7P7ik]Q!2u%aTtvc;)zfH\\:3f&lt;[a:)M\\nOrganization: Linux Works for network\\nX-Mailer: nmh-1.0.4 exmh-2.4\\nX-Os: Linux-2.4 RedHat 7.2\\nIn-Reply-To: message-id &lt;200208212046.g7LKkqf15798@mail.banirh.com&gt; of Wed,\\n    Aug 21 15:46:52 2002\\nSubject: Re: Insert signature\\nX-Loop: exmh-users@example.com\\nSender: exmh-users-admin@example.com\\nErrors-To: exmh-users-admin@example.com\\nX-Beenthere: exmh-users@example.com\\nX-Mailman-Version: 2.0.1\\nPrecedence: bulk\\nReply-To: exmh-users@example.com\\nList-Help: &lt;mailto:exmh-users-request@example.com?subject=help&gt;\\nList-Post: &lt;mailto:exmh-users@example.com&gt;\\nList-Subscribe: &lt;https://listman.example.com/mailman/listinfo/exmh-users&gt;,\\n    &lt;mailto:exmh-users-request@redhat.com?subject=subscribe&gt;\\nList-Id: Discussion list for EXMH users &lt;exmh-users.example.com&gt;\\nList-Unsubscribe: &lt;https://listman.example.com/mailman/listinfo/exmh-users&gt;,\\n    &lt;mailto:exmh-users-request@redhat.com?subject=unsubscribe&gt;\\nList-Archive: &lt;https://listman.example.com/mailman/private/exmh-users/&gt;\\nDate: Thu, 22 Aug 2002 23:36:32 +1000\\n\\nOn Wed Aug 21 2002 at 15:46, Ulises Ponce wrote:\\n\\n&gt; Hi!\\n&gt; \\n&gt; Is there a command to insert the signature using a combination of keys and not\\n&gt; to have sent the mail to insert it then?\\n\\nI simply put it (them) into my (nmh) component files (components,\\nreplcomps, forwcomps and so on).  That way you get them when you are\\nediting your message.  Also, by using comps files for specific\\nfolders you can alter your .sig per folder (and other tricks).  See\\nthe docs for (n)mh for all the details.\\n\\nThere might (must?) also be a way to get sedit to do it, but I've\\nbeen using gvim as my exmh message editor for a long time now.  I\\nload it with a command that loads some email-specific settings, eg,\\nto \"syntax\" colour-highlight the headers and quoted parts of an\\nemail)... it would be possible to map some (vim) keys that would add\\na sig (or even give a selection of sigs to choose from).\\n\\nAnd there are all sorts of ways to have randomly-chosen sigs...\\nsomewhere at rtfm.mit.edu... ok, here we go:\\nrtfm.mit.edu/pub/usenet-by-group/news.answers/signature_finger_faq.\\n(Warning... it's old, May 1995).\\n\\n&gt; Regards,\\n&gt; Ulises\\n\\nHope this helps.\\n\\nCheers\\nTony\\n\\n\\n\\n_______________________________________________\\nExmh-users mailing list\\nExmh-users@redhat.com\\nhttps://listman.redhat.com/mailman/listinfo/exmh-users\\n\\n</td>\n",
       "      <td>ham</td>\n",
       "    </tr>\n",
       "  </tbody>\n",
       "</table>\n",
       "</div>"
      ],
      "text/plain": [
       "                                                                                                                                                                                                                                                                                                                                                                                                                                                                                                                                                                                                                                                                                                                                                                                                                                                                                                                                                                                                                                                                                                                                                                                                                                                                                                                                                                                                                                                                                                                                                                                                                                                                                                                                                                                                                                                                                                                                                                                                                                                                                                                                                                                                                                                                                                                                                                                                                                                                                                                                                                                                                                                                                                                                                                                                                                                                                                                                                                                                                                                                                                                                                                                                                                                                                                                                                                                                                                                                                                                                                                                                                                                                                                                                                                                                                                                                                                                                                                                                                                                                                                                                                                                                                                                                                                                                                                                                                                                                                                                                                                                                                                                                                                                                                                                                                                                                                                                                                                                                                                                                                                                                                                                                                                                                                          0  \\\n",
       "0  From exmh-workers-admin@redhat.com  Thu Aug 22 12:36:23 2002\\nReturn-Path: <exmh-workers-admin@example.com>\\nDelivered-To: zzzz@localhost.netnoteinc.com\\nReceived: from localhost (localhost [127.0.0.1])\\n\\tby phobos.labs.netnoteinc.com (Postfix) with ESMTP id D03E543C36\\n\\tfor <zzzz@localhost>; Thu, 22 Aug 2002 07:36:16 -0400 (EDT)\\nReceived: from phobos [127.0.0.1]\\n\\tby localhost with IMAP (fetchmail-5.9.0)\\n\\tfor zzzz@localhost (single-drop); Thu, 22 Aug 2002 12:36:16 +0100 (IST)\\nReceived: from listman.example.com (listman.example.com [66.187.233.211]) by\\n    dogma.slashnull.org (8.11.6/8.11.6) with ESMTP id g7MBYrZ04811 for\\n    <zzzz-exmh@example.com>; Thu, 22 Aug 2002 12:34:53 +0100\\nReceived: from listman.example.com (localhost.localdomain [127.0.0.1]) by\\n    listman.redhat.com (Postfix) with ESMTP id 8386540858; Thu, 22 Aug 2002\\n    07:35:02 -0400 (EDT)\\nDelivered-To: exmh-workers@listman.example.com\\nReceived: from int-mx1.corp.example.com (int-mx1.corp.example.com\\n    [172.16.52.254]) by listman.redhat.com (Postfix) with ESMTP id 10CF8406D7\\n    for <exmh-workers@listman.redhat.com>; Thu, 22 Aug 2002 07:34:10 -0400\\n    (EDT)\\nReceived: (from mail@localhost) by int-mx1.corp.example.com (8.11.6/8.11.6)\\n    id g7MBY7g11259 for exmh-workers@listman.redhat.com; Thu, 22 Aug 2002\\n    07:34:07 -0400\\nReceived: from mx1.example.com (mx1.example.com [172.16.48.31]) by\\n    int-mx1.corp.redhat.com (8.11.6/8.11.6) with SMTP id g7MBY7Y11255 for\\n    <exmh-workers@redhat.com>; Thu, 22 Aug 2002 07:34:07 -0400\\nReceived: from ratree.psu.ac.th ([202.28.97.6]) by mx1.example.com\\n    (8.11.6/8.11.6) with SMTP id g7MBIhl25223 for <exmh-workers@redhat.com>;\\n    Thu, 22 Aug 2002 07:18:55 -0400\\nReceived: from delta.cs.mu.OZ.AU (delta.coe.psu.ac.th [172.30.0.98]) by\\n    ratree.psu.ac.th (8.11.6/8.11.6) with ESMTP id g7MBWel29762;\\n    Thu, 22 Aug 2002 18:32:40 +0700 (ICT)\\nReceived: from munnari.OZ.AU (localhost [127.0.0.1]) by delta.cs.mu.OZ.AU\\n    (8.11.6/8.11.6) with ESMTP id g7MBQPW13260; Thu, 22 Aug 2002 18:26:25\\n    +0700 (ICT)\\nFrom: Robert Elz <kre@munnari.OZ.AU>\\nTo: Chris Garrigues <cwg-dated-1030377287.06fa6d@DeepEddy.Com>\\nCc: exmh-workers@example.com\\nSubject: Re: New Sequences Window\\nIn-Reply-To: <1029945287.4797.TMDA@deepeddy.vircio.com>\\nReferences: <1029945287.4797.TMDA@deepeddy.vircio.com>\\n    <1029882468.3116.TMDA@deepeddy.vircio.com> <9627.1029933001@munnari.OZ.AU>\\n    <1029943066.26919.TMDA@deepeddy.vircio.com>\\n    <1029944441.398.TMDA@deepeddy.vircio.com>\\nMIME-Version: 1.0\\nContent-Type: text/plain; charset=us-ascii\\nMessage-Id: <13258.1030015585@munnari.OZ.AU>\\nX-Loop: exmh-workers@example.com\\nSender: exmh-workers-admin@example.com\\nErrors-To: exmh-workers-admin@example.com\\nX-Beenthere: exmh-workers@example.com\\nX-Mailman-Version: 2.0.1\\nPrecedence: bulk\\nList-Help: <mailto:exmh-workers-request@example.com?subject=help>\\nList-Post: <mailto:exmh-workers@example.com>\\nList-Subscribe: <https://listman.example.com/mailman/listinfo/exmh-workers>,\\n    <mailto:exmh-workers-request@redhat.com?subject=subscribe>\\nList-Id: Discussion list for EXMH developers <exmh-workers.example.com>\\nList-Unsubscribe: <https://listman.example.com/mailman/listinfo/exmh-workers>,\\n    <mailto:exmh-workers-request@redhat.com?subject=unsubscribe>\\nList-Archive: <https://listman.example.com/mailman/private/exmh-workers/>\\nDate: Thu, 22 Aug 2002 18:26:25 +0700\\n\\n    Date:        Wed, 21 Aug 2002 10:54:46 -0500\\n    From:        Chris Garrigues <cwg-dated-1030377287.06fa6d@DeepEddy.Com>\\n    Message-ID:  <1029945287.4797.TMDA@deepeddy.vircio.com>\\n\\n\\n  | I can't reproduce this error.\\n\\nFor me it is very repeatable... (like every time, without fail).\\n\\nThis is the debug log of the pick happening ...\\n\\n18:19:03 Pick_It {exec pick +inbox -list -lbrace -lbrace -subject ftp -rbrace -rbrace} {4852-4852 -sequence mercury}\\n18:19:03 exec pick +inbox -list -lbrace -lbrace -subject ftp -rbrace -rbrace 4852-4852 -sequence mercury\\n18:19:04 Ftoc_PickMsgs {{1 hit}}\\n18:19:04 Marking 1 hits\\n18:19:04 tkerror: syntax error in expression \"int ...\\n\\nNote, if I run the pick command by hand ...\\n\\ndelta$ pick +inbox -list -lbrace -lbrace -subject ftp -rbrace -rbrace  4852-4852 -sequence mercury\\n1 hit\\n\\nThat's where the \"1 hit\" comes from (obviously).  The version of nmh I'm\\nusing is ...\\n\\ndelta$ pick -version\\npick -- nmh-1.0.4 [compiled on fuchsia.cs.mu.OZ.AU at Sun Mar 17 14:55:56 ICT 2002]\\n\\nAnd the relevant part of my .mh_profile ...\\n\\ndelta$ mhparam pick\\n-seq sel -list\\n\\n\\nSince the pick command works, the sequence (actually, both of them, the\\none that's explicit on the command line, from the search popup, and the\\none that comes from .mh_profile) do get created.\\n\\nkre\\n\\nps: this is still using the version of the code form a day ago, I haven't\\nbeen able to reach the cvs repository today (local routing issue I think).\\n\\n\\n\\n_______________________________________________\\nExmh-workers mailing list\\nExmh-workers@redhat.com\\nhttps://listman.redhat.com/mailman/listinfo/exmh-workers\\n\\n   \n",
       "1  From Steve_Burt@cursor-system.com  Thu Aug 22 12:46:39 2002\\nReturn-Path: <Steve_Burt@cursor-system.com>\\nDelivered-To: zzzz@localhost.netnoteinc.com\\nReceived: from localhost (localhost [127.0.0.1])\\n\\tby phobos.labs.netnoteinc.com (Postfix) with ESMTP id BE12E43C34\\n\\tfor <zzzz@localhost>; Thu, 22 Aug 2002 07:46:38 -0400 (EDT)\\nReceived: from phobos [127.0.0.1]\\n\\tby localhost with IMAP (fetchmail-5.9.0)\\n\\tfor zzzz@localhost (single-drop); Thu, 22 Aug 2002 12:46:38 +0100 (IST)\\nReceived: from n20.grp.scd.yahoo.com (n20.grp.scd.yahoo.com\\n    [66.218.66.76]) by dogma.slashnull.org (8.11.6/8.11.6) with SMTP id\\n    g7MBkTZ05087 for <zzzz@example.com>; Thu, 22 Aug 2002 12:46:29 +0100\\nX-Egroups-Return: sentto-2242572-52726-1030016790-zzzz=example.com@returns.groups.yahoo.com\\nReceived: from [66.218.67.196] by n20.grp.scd.yahoo.com with NNFMP;\\n    22 Aug 2002 11:46:30 -0000\\nX-Sender: steve.burt@cursor-system.com\\nX-Apparently-To: zzzzteana@yahoogroups.com\\nReceived: (EGP: mail-8_1_0_1); 22 Aug 2002 11:46:29 -0000\\nReceived: (qmail 11764 invoked from network); 22 Aug 2002 11:46:29 -0000\\nReceived: from unknown (66.218.66.217) by m3.grp.scd.yahoo.com with QMQP;\\n    22 Aug 2002 11:46:29 -0000\\nReceived: from unknown (HELO mailgateway.cursor-system.com) (62.189.7.27)\\n    by mta2.grp.scd.yahoo.com with SMTP; 22 Aug 2002 11:46:29 -0000\\nReceived: from exchange1.cps.local (unverified) by\\n    mailgateway.cursor-system.com (Content Technologies SMTPRS 4.2.10) with\\n    ESMTP id <T5cde81f695ac1d100407d@mailgateway.cursor-system.com> for\\n    <forteana@yahoogroups.com>; Thu, 22 Aug 2002 13:14:10 +0100\\nReceived: by exchange1.cps.local with Internet Mail Service (5.5.2653.19)\\n    id <PXX6AT23>; Thu, 22 Aug 2002 12:46:27 +0100\\nMessage-Id: <5EC2AD6D2314D14FB64BDA287D25D9EF12B4F6@exchange1.cps.local>\\nTo: \"'zzzzteana@yahoogroups.com'\" <zzzzteana@yahoogroups.com>\\nX-Mailer: Internet Mail Service (5.5.2653.19)\\nX-Egroups-From: Steve Burt <steve.burt@cursor-system.com>\\nFrom: Steve Burt <Steve_Burt@cursor-system.com>\\nX-Yahoo-Profile: pyruse\\nMIME-Version: 1.0\\nMailing-List: list zzzzteana@yahoogroups.com; contact\\n    forteana-owner@yahoogroups.com\\nDelivered-To: mailing list zzzzteana@yahoogroups.com\\nPrecedence: bulk\\nList-Unsubscribe: <mailto:zzzzteana-unsubscribe@yahoogroups.com>\\nDate: Thu, 22 Aug 2002 12:46:18 +0100\\nSubject: [zzzzteana] RE: Alexander\\nReply-To: zzzzteana@yahoogroups.com\\nContent-Type: text/plain; charset=US-ASCII\\nContent-Transfer-Encoding: 7bit\\n\\nMartin A posted:\\nTassos Papadopoulos, the Greek sculptor behind the plan, judged that the\\n limestone of Mount Kerdylio, 70 miles east of Salonika and not far from the\\n Mount Athos monastic community, was ideal for the patriotic sculpture. \\n \\n As well as Alexander's granite features, 240 ft high and 170 ft wide, a\\n museum, a restored amphitheatre and car park for admiring crowds are\\nplanned\\n---------------------\\nSo is this mountain limestone or granite?\\nIf it's limestone, it'll weather pretty fast.\\n\\n------------------------ Yahoo! Groups Sponsor ---------------------~-->\\n4 DVDs Free +s&p Join Now\\nhttp://us.click.yahoo.com/pt6YBB/NXiEAA/mG3HAA/7gSolB/TM\\n---------------------------------------------------------------------~->\\n\\nTo unsubscribe from this group, send an email to:\\nforteana-unsubscribe@egroups.com\\n\\n \\n\\nYour use of Yahoo! Groups is subject to http://docs.yahoo.com/info/terms/ \\n\\n\\n\\n                                                                                                                                                                                                                                                                                                                                                                                                                                                                                                                                                                                                                                                                                                                                                                                                                                                                                                                                                                                                                                                                                                                                                                                                                                                                                                                                                                                                                                                                                                                                                                                                                                                                                                                    \n",
       "2  From timc@2ubh.com  Thu Aug 22 13:52:59 2002\\nReturn-Path: <timc@2ubh.com>\\nDelivered-To: zzzz@localhost.netnoteinc.com\\nReceived: from localhost (localhost [127.0.0.1])\\n\\tby phobos.labs.netnoteinc.com (Postfix) with ESMTP id 0314547C66\\n\\tfor <zzzz@localhost>; Thu, 22 Aug 2002 08:52:58 -0400 (EDT)\\nReceived: from phobos [127.0.0.1]\\n\\tby localhost with IMAP (fetchmail-5.9.0)\\n\\tfor zzzz@localhost (single-drop); Thu, 22 Aug 2002 13:52:59 +0100 (IST)\\nReceived: from n16.grp.scd.yahoo.com (n16.grp.scd.yahoo.com\\n    [66.218.66.71]) by dogma.slashnull.org (8.11.6/8.11.6) with SMTP id\\n    g7MCrdZ07070 for <zzzz@example.com>; Thu, 22 Aug 2002 13:53:39 +0100\\nX-Egroups-Return: sentto-2242572-52733-1030020820-zzzz=example.com@returns.groups.yahoo.com\\nReceived: from [66.218.67.198] by n16.grp.scd.yahoo.com with NNFMP;\\n    22 Aug 2002 12:53:40 -0000\\nX-Sender: timc@2ubh.com\\nX-Apparently-To: zzzzteana@yahoogroups.com\\nReceived: (EGP: mail-8_1_0_1); 22 Aug 2002 12:53:39 -0000\\nReceived: (qmail 76099 invoked from network); 22 Aug 2002 12:53:39 -0000\\nReceived: from unknown (66.218.66.218) by m5.grp.scd.yahoo.com with QMQP;\\n    22 Aug 2002 12:53:39 -0000\\nReceived: from unknown (HELO rhenium.btinternet.com) (194.73.73.93) by\\n    mta3.grp.scd.yahoo.com with SMTP; 22 Aug 2002 12:53:39 -0000\\nReceived: from host217-36-23-185.in-addr.btopenworld.com ([217.36.23.185])\\n    by rhenium.btinternet.com with esmtp (Exim 3.22 #8) id 17hrT0-0004gj-00\\n    for forteana@yahoogroups.com; Thu, 22 Aug 2002 13:53:38 +0100\\nX-Mailer: Microsoft Outlook Express Macintosh Edition - 4.5 (0410)\\nTo: zzzzteana <zzzzteana@yahoogroups.com>\\nX-Priority: 3\\nMessage-Id: <E17hrT0-0004gj-00@rhenium.btinternet.com>\\nFrom: \"Tim Chapman\" <timc@2ubh.com>\\nX-Yahoo-Profile: tim2ubh\\nMIME-Version: 1.0\\nMailing-List: list zzzzteana@yahoogroups.com; contact\\n    forteana-owner@yahoogroups.com\\nDelivered-To: mailing list zzzzteana@yahoogroups.com\\nPrecedence: bulk\\nList-Unsubscribe: <mailto:zzzzteana-unsubscribe@yahoogroups.com>\\nDate: Thu, 22 Aug 2002 13:52:38 +0100\\nSubject: [zzzzteana] Moscow bomber\\nReply-To: zzzzteana@yahoogroups.com\\nContent-Type: text/plain; charset=US-ASCII\\nContent-Transfer-Encoding: 7bit\\n\\nMan Threatens Explosion In Moscow \\n\\nThursday August 22, 2002 1:40 PM\\nMOSCOW (AP) - Security officers on Thursday seized an unidentified man who\\nsaid he was armed with explosives and threatened to blow up his truck in\\nfront of Russia's Federal Security Services headquarters in Moscow, NTV\\ntelevision reported.\\nThe officers seized an automatic rifle the man was carrying, then the man\\ngot out of the truck and was taken into custody, NTV said. No other details\\nwere immediately available.\\nThe man had demanded talks with high government officials, the Interfax and\\nITAR-Tass news agencies said. Ekho Moskvy radio reported that he wanted to\\ntalk with Russian President Vladimir Putin.\\nPolice and security forces rushed to the Security Service building, within\\nblocks of the Kremlin, Red Square and the Bolshoi Ballet, and surrounded the\\nman, who claimed to have one and a half tons of explosives, the news\\nagencies said. Negotiations continued for about one and a half hours outside\\nthe building, ITAR-Tass and Interfax reported, citing witnesses.\\nThe man later drove away from the building, under police escort, and drove\\nto a street near Moscow's Olympic Penta Hotel, where authorities held\\nfurther negotiations with him, the Moscow police press service said. The\\nmove appeared to be an attempt by security services to get him to a more\\nsecure location. \\n\\n------------------------ Yahoo! Groups Sponsor ---------------------~-->\\n4 DVDs Free +s&p Join Now\\nhttp://us.click.yahoo.com/pt6YBB/NXiEAA/mG3HAA/7gSolB/TM\\n---------------------------------------------------------------------~->\\n\\nTo unsubscribe from this group, send an email to:\\nforteana-unsubscribe@egroups.com\\n\\n \\n\\nYour use of Yahoo! Groups is subject to http://docs.yahoo.com/info/terms/ \\n\\n\\n\\n                                                                                                                                                                                                                                                                                                                                                                                                                                                                                                                                                                                                                                                                                                                                                                                                                                                                                                                                                                                                                                                                                                                             \n",
       "3  From irregulars-admin@tb.tf  Thu Aug 22 14:23:39 2002\\nReturn-Path: <irregulars-admin@tb.tf>\\nDelivered-To: zzzz@localhost.netnoteinc.com\\nReceived: from localhost (localhost [127.0.0.1])\\n\\tby phobos.labs.netnoteinc.com (Postfix) with ESMTP id 9DAE147C66\\n\\tfor <zzzz@localhost>; Thu, 22 Aug 2002 09:23:38 -0400 (EDT)\\nReceived: from phobos [127.0.0.1]\\n\\tby localhost with IMAP (fetchmail-5.9.0)\\n\\tfor zzzz@localhost (single-drop); Thu, 22 Aug 2002 14:23:38 +0100 (IST)\\nReceived: from web.tb.tf (route-64-131-126-36.telocity.com\\n    [64.131.126.36]) by dogma.slashnull.org (8.11.6/8.11.6) with ESMTP id\\n    g7MDGOZ07922 for <zzzz-irr@example.com>; Thu, 22 Aug 2002 14:16:24 +0100\\nReceived: from web.tb.tf (localhost.localdomain [127.0.0.1]) by web.tb.tf\\n    (8.11.6/8.11.6) with ESMTP id g7MDP9I16418; Thu, 22 Aug 2002 09:25:09\\n    -0400\\nReceived: from red.harvee.home (red [192.168.25.1] (may be forged)) by\\n    web.tb.tf (8.11.6/8.11.6) with ESMTP id g7MDO4I16408 for\\n    <irregulars@tb.tf>; Thu, 22 Aug 2002 09:24:04 -0400\\nReceived: from prserv.net (out4.prserv.net [32.97.166.34]) by\\n    red.harvee.home (8.11.6/8.11.6) with ESMTP id g7MDFBD29237 for\\n    <irregulars@tb.tf>; Thu, 22 Aug 2002 09:15:12 -0400\\nReceived: from [209.202.248.109]\\n    (slip-32-103-249-10.ma.us.prserv.net[32.103.249.10]) by prserv.net (out4)\\n    with ESMTP id <2002082213150220405qu8jce>; Thu, 22 Aug 2002 13:15:07 +0000\\nMIME-Version: 1.0\\nX-Sender: @ (Unverified)\\nMessage-Id: <p04330137b98a941c58a8@[209.202.248.109]>\\nTo: undisclosed-recipient: ;\\nFrom: Monty Solomon <monty@roscom.com>\\nContent-Type: text/plain; charset=\"us-ascii\"\\nSubject: [IRR] Klez: The Virus That  Won't Die\\nSender: irregulars-admin@tb.tf\\nErrors-To: irregulars-admin@tb.tf\\nX-Beenthere: irregulars@tb.tf\\nX-Mailman-Version: 2.0.6\\nPrecedence: bulk\\nList-Help: <mailto:irregulars-request@tb.tf?subject=help>\\nList-Post: <mailto:irregulars@tb.tf>\\nList-Subscribe: <http://tb.tf/mailman/listinfo/irregulars>,\\n    <mailto:irregulars-request@tb.tf?subject=subscribe>\\nList-Id: New home of the TBTF Irregulars mailing list <irregulars.tb.tf>\\nList-Unsubscribe: <http://tb.tf/mailman/listinfo/irregulars>,\\n    <mailto:irregulars-request@tb.tf?subject=unsubscribe>\\nList-Archive: <http://tb.tf/mailman/private/irregulars/>\\nDate: Thu, 22 Aug 2002 09:15:25 -0400\\n\\nKlez: The Virus That Won't Die\\n \\nAlready the most prolific virus ever, Klez continues to wreak havoc.\\n\\nAndrew Brandt\\n>>From the September 2002 issue of PC World magazine\\nPosted Thursday, August 01, 2002\\n\\n\\nThe Klez worm is approaching its seventh month of wriggling across \\nthe Web, making it one of the most persistent viruses ever. And \\nexperts warn that it may be a harbinger of new viruses that use a \\ncombination of pernicious approaches to go from PC to PC.\\n\\nAntivirus software makers Symantec and McAfee both report more than \\n2000 new infections daily, with no sign of letup at press time. The \\nBritish security firm MessageLabs estimates that 1 in every 300 \\ne-mail messages holds a variation of the Klez virus, and says that \\nKlez has already surpassed last summer's SirCam as the most prolific \\nvirus ever.\\n\\nAnd some newer Klez variants aren't merely nuisances--they can carry \\nother viruses in them that corrupt your data.\\n\\n...\\n\\nhttp://www.pcworld.com/news/article/0,aid,103259,00.asp\\n_______________________________________________\\nIrregulars mailing list\\nIrregulars@tb.tf\\nhttp://tb.tf/mailman/listinfo/irregulars\\n\\n                                                                                                                                                                                                                                                                                                                                                                                                                                                                                                                                                                                                                                                                                                                                                                                                                                                                                                                                                                                                                                                                                                                                                                                                                                                                                                                                                                                                                                                                                                                                                                                                                                                    \n",
       "4  From exmh-users-admin@redhat.com  Thu Aug 22 14:44:07 2002\\nReturn-Path: <exmh-users-admin@example.com>\\nDelivered-To: zzzz@localhost.netnoteinc.com\\nReceived: from localhost (localhost [127.0.0.1])\\n\\tby phobos.labs.netnoteinc.com (Postfix) with ESMTP id 985B247C67\\n\\tfor <zzzz@localhost>; Thu, 22 Aug 2002 09:44:04 -0400 (EDT)\\nReceived: from phobos [127.0.0.1]\\n\\tby localhost with IMAP (fetchmail-5.9.0)\\n\\tfor zzzz@localhost (single-drop); Thu, 22 Aug 2002 14:44:04 +0100 (IST)\\nReceived: from listman.example.com (listman.example.com [66.187.233.211]) by\\n    dogma.slashnull.org (8.11.6/8.11.6) with ESMTP id g7MDgEZ08598 for\\n    <zzzz-exmh@example.com>; Thu, 22 Aug 2002 14:42:19 +0100\\nReceived: from listman.example.com (localhost.localdomain [127.0.0.1]) by\\n    listman.redhat.com (Postfix) with ESMTP id F26113EE9A; Thu, 22 Aug 2002\\n    09:42:15 -0400 (EDT)\\nDelivered-To: exmh-users@listman.example.com\\nReceived: from int-mx1.corp.example.com (int-mx1.corp.example.com\\n    [172.16.52.254]) by listman.redhat.com (Postfix) with ESMTP id 4ACEF3F4A2\\n    for <exmh-users@listman.redhat.com>; Thu, 22 Aug 2002 09:38:03 -0400 (EDT)\\nReceived: (from mail@localhost) by int-mx1.corp.example.com (8.11.6/8.11.6)\\n    id g7MDc0601591 for exmh-users@listman.redhat.com; Thu, 22 Aug 2002\\n    09:38:00 -0400\\nReceived: from mx1.example.com (mx1.example.com [172.16.48.31]) by\\n    int-mx1.corp.redhat.com (8.11.6/8.11.6) with SMTP id g7MDc0Y01587 for\\n    <exmh-users@redhat.com>; Thu, 22 Aug 2002 09:38:00 -0400\\nReceived: from mta03bw.bigpond.com (mta03bw.bigpond.com [139.134.6.86]) by\\n    mx1.redhat.com (8.11.6/8.11.6) with SMTP id g7MDNVl14108 for\\n    <exmh-users@redhat.com>; Thu, 22 Aug 2002 09:23:31 -0400\\nReceived: from hobbit.linuxworks.com.au ([144.135.24.81]) by\\n    mta03bw.bigpond.com (Netscape Messaging Server 4.15 mta03bw May 23 2002\\n    23:53:28) with SMTP id H18Z7300.F6G for <exmh-users@redhat.com>;\\n    Thu, 22 Aug 2002 23:37:51 +1000\\nReceived: from CPE-203-51-220-31.qld.bigpond.net.au ([203.51.220.31]) by\\n    bwmam05.mailsvc.email.bigpond.com(MailRouter V3.0n 44/32989362);\\n    22 Aug 2002 23:37:51\\nReceived: (from tony@localhost) by hobbit.linuxworks.com.au\\n    (8.11.6/8.11.6) id g7MDaWX26868; Thu, 22 Aug 2002 23:36:32 +1000\\nMessage-Id: <200208221336.g7MDaWX26868@hobbit.linuxworks.com.au.nospam>\\nTo: Exmh Users Mailing List <exmh-users@example.com>\\nFrom: Tony Nugent <tony@linuxworks.com.au>\\nX-Face: ]IrGs{LrofDtGfsrG!As5=G'2HRr2zt:H>djXb5@v|Dr!jOelxzAZ`!}(\"]}]\\n    Q!)1w#X;)nLlb'XhSu,QL>;)L/l06wsI?rv-xy6%Y1e\"BUiV%)mU;]f-5<#U6\\n    UthZ0QrF7\\_p#q}*Cn}jd|XT~7P7ik]Q!2u%aTtvc;)zfH\\:3f<[a:)M\\nOrganization: Linux Works for network\\nX-Mailer: nmh-1.0.4 exmh-2.4\\nX-Os: Linux-2.4 RedHat 7.2\\nIn-Reply-To: message-id <200208212046.g7LKkqf15798@mail.banirh.com> of Wed,\\n    Aug 21 15:46:52 2002\\nSubject: Re: Insert signature\\nX-Loop: exmh-users@example.com\\nSender: exmh-users-admin@example.com\\nErrors-To: exmh-users-admin@example.com\\nX-Beenthere: exmh-users@example.com\\nX-Mailman-Version: 2.0.1\\nPrecedence: bulk\\nReply-To: exmh-users@example.com\\nList-Help: <mailto:exmh-users-request@example.com?subject=help>\\nList-Post: <mailto:exmh-users@example.com>\\nList-Subscribe: <https://listman.example.com/mailman/listinfo/exmh-users>,\\n    <mailto:exmh-users-request@redhat.com?subject=subscribe>\\nList-Id: Discussion list for EXMH users <exmh-users.example.com>\\nList-Unsubscribe: <https://listman.example.com/mailman/listinfo/exmh-users>,\\n    <mailto:exmh-users-request@redhat.com?subject=unsubscribe>\\nList-Archive: <https://listman.example.com/mailman/private/exmh-users/>\\nDate: Thu, 22 Aug 2002 23:36:32 +1000\\n\\nOn Wed Aug 21 2002 at 15:46, Ulises Ponce wrote:\\n\\n> Hi!\\n> \\n> Is there a command to insert the signature using a combination of keys and not\\n> to have sent the mail to insert it then?\\n\\nI simply put it (them) into my (nmh) component files (components,\\nreplcomps, forwcomps and so on).  That way you get them when you are\\nediting your message.  Also, by using comps files for specific\\nfolders you can alter your .sig per folder (and other tricks).  See\\nthe docs for (n)mh for all the details.\\n\\nThere might (must?) also be a way to get sedit to do it, but I've\\nbeen using gvim as my exmh message editor for a long time now.  I\\nload it with a command that loads some email-specific settings, eg,\\nto \"syntax\" colour-highlight the headers and quoted parts of an\\nemail)... it would be possible to map some (vim) keys that would add\\na sig (or even give a selection of sigs to choose from).\\n\\nAnd there are all sorts of ways to have randomly-chosen sigs...\\nsomewhere at rtfm.mit.edu... ok, here we go:\\nrtfm.mit.edu/pub/usenet-by-group/news.answers/signature_finger_faq.\\n(Warning... it's old, May 1995).\\n\\n> Regards,\\n> Ulises\\n\\nHope this helps.\\n\\nCheers\\nTony\\n\\n\\n\\n_______________________________________________\\nExmh-users mailing list\\nExmh-users@redhat.com\\nhttps://listman.redhat.com/mailman/listinfo/exmh-users\\n\\n                                                                            \n",
       "\n",
       "     1  \n",
       "0  ham  \n",
       "1  ham  \n",
       "2  ham  \n",
       "3  ham  \n",
       "4  ham  "
      ]
     },
     "execution_count": 13,
     "metadata": {},
     "output_type": "execute_result"
    }
   ],
   "source": [
    "data9 = []\n",
    "\n",
    "for folderName, subfolders, filenames in os.walk('ham-and-spam-dataset'):\n",
    "    for filename in tqdm(filenames):\n",
    "        with open (folderName + '\\\\'+ filename, encoding='utf-8', errors='ignore') as f:\n",
    "            contents = f.read()\n",
    "            data9.append([contents, folderName.split('\\\\')[-1]])\n",
    "            \n",
    "data9 = pd.DataFrame(data9)\n",
    "\n",
    "data9.head()"
   ]
  },
  {
   "cell_type": "code",
   "execution_count": 14,
   "metadata": {
    "ExecuteTime": {
     "end_time": "2020-05-25T07:44:48.784914Z",
     "start_time": "2020-05-25T07:44:48.446818Z"
    }
   },
   "outputs": [
    {
     "data": {
      "text/html": [
       "<div>\n",
       "<style scoped>\n",
       "    .dataframe tbody tr th:only-of-type {\n",
       "        vertical-align: middle;\n",
       "    }\n",
       "\n",
       "    .dataframe tbody tr th {\n",
       "        vertical-align: top;\n",
       "    }\n",
       "\n",
       "    .dataframe thead th {\n",
       "        text-align: right;\n",
       "    }\n",
       "</style>\n",
       "<table border=\"1\" class=\"dataframe\">\n",
       "  <thead>\n",
       "    <tr style=\"text-align: right;\">\n",
       "      <th></th>\n",
       "      <th>Text</th>\n",
       "      <th>Class</th>\n",
       "    </tr>\n",
       "  </thead>\n",
       "  <tbody>\n",
       "    <tr>\n",
       "      <td>0</td>\n",
       "      <td>Supply Quality China's EXCLUSIVE dimensions at Unbeatable Price.Dear Sir, We are pleased to inform you as one of China's largest export &amp; import sto=ne company-Wanlistone Group, The Group its subsidiaries specialize in the q=uarrying, processing and Sales of dimension stone, slab and tiles and dimen=sion stone products for the building materials sector and specialty markets==2E The Group operations are based in Xiamen, South of China, which is the lar=gest export and import business portals in China where Wanlistone owns and =operates various natural stone deposits with 6,000 square meters through th=e country. In addition to the quarries Wanlistone has a fully automated pro=cessing plant for the processing of the granite and marble and granite prod=ucts. Wanlistone supplies granite in raw block form, granite and marble tile and= strips of varying dimension, memorial materials and specialty products to =both the local but more specifically the export markets. The Group has a full rang of the China natural stone products including Pink color G636, G617, G635, G663, Yellow color, G682,Dark G654, Black G68=</td>\n",
       "      <td>1</td>\n",
       "    </tr>\n",
       "    <tr>\n",
       "      <td>1</td>\n",
       "      <td>over. SidLet me know. Thx.</td>\n",
       "      <td>0</td>\n",
       "    </tr>\n",
       "    <tr>\n",
       "      <td>2</td>\n",
       "      <td>Dear Friend,Greetings to you.I wish to accost you with a request that would be of immense benefit to both of us. Being an executor of wills, it is possible that we may be tempted to make fortune out of our client's situations, when we cannot help it, or left with no better option. The issue I am presenting to you is a case of my client who willed a fortune to his next-of-kin. It was most unfortunate that he and his next-of-kin died on the same day the 31st October 1999 in an Egyptian airline 990 with other passengers on board. You can confirm this from the website below which was published by BBC WORLD NEWS.WEBSITE.http:/ews.bbc.co.uk/1/hi/world/americas/502503.stm.I am now faced with confusion of who to pass the fortune to.According to the English law, the fortune is supposed to be bequeathed to the government,if nobody comes forward as the next of kin within seven years of the demise of the benefactor of the will. My purpose of contacting you is to seek your acting as the beneficiary of the will, and lay claim to the legacy of $7million, which my deceased client  bequeathed to his next-of-kin. For now, I alone know about his will, as my client had great confidence in me.Everything will be left between you and I. The share would be 25% for you and 75% for me. I would want to give a huge part of my share to the tsunami victims,as this is my primary objective. All I have to do is amend the will or add a codicil to make you the beneficiary to the $7million legacy.Again, I feel that you may apprehensive and consider this amount too big for you to defend. It does not matter, as there are documents to back it up.This is a legacy being passed on to a next-of-kin. As I am not very sure of getting your consent on the issue I prefer not to divulge my full identity so as not to risk being disbarred. The English Bar considers it a breach of the oath of the English Bar. I need not emphasize to you that the sensitivity of this issue need not be toyed with by neglecting its confidentiality. I therefore appeal to you not discuss this request with anybody, even if you decline my request.I look forward to hearing from you soon.Yours trulyStephen Ayling.</td>\n",
       "      <td>1</td>\n",
       "    </tr>\n",
       "    <tr>\n",
       "      <td>3</td>\n",
       "      <td>MR. CHEUNG PUIHANG SENG BANK LTD.DES VOEUX RD. BRANCH,CENTRAL HONG KONG,HONG KONG. Let me start by introducing myself. I am Mr.Cheung Pui director of operations of the Hang Seng Bank Ltd. I have an urgent business suggestion for you.I honestly apologize and hope I do not cause you much embarrassment by contacting you through this means for a transaction of this magnitude,but this is due to confidentiality and prompt access reposed on this medium.Furthermore,due to this issue on my hands now,it became necesary for me to seek your assistance, and it is imperative for me to know your opinionBefore the U.S and Iraqi war our client Major Fadi Bassem who was with the Iraqi forces and also business man made a numbered fixed deposit for 18 calendar months, with a value of Twenty Four millions Five Hundred Thousand United State Dollars only in my branch. Upon maturity several notice was sent to him, even during the war early this year. Again after the war  another notification was sent and still no response came from him. We later find out that the Major and his family had been killed during the war in bomb blast that hit their home.After further investigation it was also discovered that Major Fadi Basem  did not declare any next of kin in his official papers including the paper work of his bank deposit. And he also confided in me the last time he was at my office that no one except me knew of his deposit in my bank. So, Twenty Four millions Five Hundred Thousand United State Dollars is still lying in my bank and no one will ever come forward to claim it. What bothers me most is that according to the laws of my country at the expiration 5 years the funds will revert to the ownership of the Hong Kong Government if nobody applies to claim the funds. Against this backdrop, my suggestion to you is that I will like you as a foreigner to stand as the next of kin to Major Fadi Basem  so that you will be able to receive his funds. WHAT IS TO BE DONE:I want you to know that I have had everything planned out so that we shall come out successful. I have contacted an attorney that will prepare the necessary document that will back you up as the next of kin to Major Fadi Basem , all that is required from you at this stage is for you to provide me with your Full Names and Address so that the attorney can commence his job. After you have been made the next of kin, the attorney will also file in for claims on your behalf and secure the necessary approval and letter of probate in your favor for the move of the funds to an account that will be provided by you.There is no risk involved at all in the matter as we are going to adopt a legalized method and the attorney will prepare all the necessary documents. Please endeavor to observe utmost discretion in all matters concerning thisissue.Once the funds have been transferred to your nominated bank account we shall share in the ratio of 70% for me, 25% for you and 5% for any expenses incure during the transaction. Should you be interested please send me your full names and current residential address and I will prefer you to reach me via my private box, {che_Pui67@yahoo.com.hk} and finally after that i shall provide you with more details of this operation.Your earliest response to this letter will be appreciated.Kind Regards,Mr Cheung Pui.___________________________________________________________________________Mail envoy� par le service WebMail du Site PHP-Nuke- http://www.forcetacticalarmy.com</td>\n",
       "      <td>1</td>\n",
       "    </tr>\n",
       "    <tr>\n",
       "      <td>4</td>\n",
       "      <td>Not a surprising assessment from Embassy.</td>\n",
       "      <td>0</td>\n",
       "    </tr>\n",
       "  </tbody>\n",
       "</table>\n",
       "</div>"
      ],
      "text/plain": [
       "                                                                                                                                                                                                                                                                                                                                                                                                                                                                                                                                                                                                                                                                                                                                                                                                                                                                                                                                                                                                                                                                                                                                                                                                                                                                                                                                                                                                                                                                                                                                                                                                                                                                                                                                                                                                                                                                                                                                                                                                                                                                                                                                                                                                                                                                                                                                                                                                                                                                                                                                                                                                                                                                                                                                                                                                                                                                                                                                                                                                                                                                                                                                                                                                                                                                                                                                                                                                                                                                                                                                                                                                                      Text  \\\n",
       "0  Supply Quality China's EXCLUSIVE dimensions at Unbeatable Price.Dear Sir, We are pleased to inform you as one of China's largest export & import sto=ne company-Wanlistone Group, The Group its subsidiaries specialize in the q=uarrying, processing and Sales of dimension stone, slab and tiles and dimen=sion stone products for the building materials sector and specialty markets==2E The Group operations are based in Xiamen, South of China, which is the lar=gest export and import business portals in China where Wanlistone owns and =operates various natural stone deposits with 6,000 square meters through th=e country. In addition to the quarries Wanlistone has a fully automated pro=cessing plant for the processing of the granite and marble and granite prod=ucts. Wanlistone supplies granite in raw block form, granite and marble tile and= strips of varying dimension, memorial materials and specialty products to =both the local but more specifically the export markets. The Group has a full rang of the China natural stone products including Pink color G636, G617, G635, G663, Yellow color, G682,Dark G654, Black G68=                                                                                                                                                                                                                                                                                                                                                                                                                                                                                                                                                                                                                                                                                                                                                                                                                                                                                                                                                                                                                                                                                                                                                                                                                                                                                                                                                                                                                                                                                                                                                                                                                                                                                                                                                                                                                                                                                                                                                                                                                                                                                                                                                                                                                                                                                                                                                                                                                                                         \n",
       "1  over. SidLet me know. Thx.                                                                                                                                                                                                                                                                                                                                                                                                                                                                                                                                                                                                                                                                                                                                                                                                                                                                                                                                                                                                                                                                                                                                                                                                                                                                                                                                                                                                                                                                                                                                                                                                                                                                                                                                                                                                                                                                                                                                                                                                                                                                                                                                                                                                                                                                                                                                                                                                                                                                                                                                                                                                                                                                                                                                                                                                                                                                                                                                                                                                                                                                                                                                                                                                                                                                                                                                                                                                                                                                                                                                                                                                \n",
       "2  Dear Friend,Greetings to you.I wish to accost you with a request that would be of immense benefit to both of us. Being an executor of wills, it is possible that we may be tempted to make fortune out of our client's situations, when we cannot help it, or left with no better option. The issue I am presenting to you is a case of my client who willed a fortune to his next-of-kin. It was most unfortunate that he and his next-of-kin died on the same day the 31st October 1999 in an Egyptian airline 990 with other passengers on board. You can confirm this from the website below which was published by BBC WORLD NEWS.WEBSITE.http:/ews.bbc.co.uk/1/hi/world/americas/502503.stm.I am now faced with confusion of who to pass the fortune to.According to the English law, the fortune is supposed to be bequeathed to the government,if nobody comes forward as the next of kin within seven years of the demise of the benefactor of the will. My purpose of contacting you is to seek your acting as the beneficiary of the will, and lay claim to the legacy of $7million, which my deceased client  bequeathed to his next-of-kin. For now, I alone know about his will, as my client had great confidence in me.Everything will be left between you and I. The share would be 25% for you and 75% for me. I would want to give a huge part of my share to the tsunami victims,as this is my primary objective. All I have to do is amend the will or add a codicil to make you the beneficiary to the $7million legacy.Again, I feel that you may apprehensive and consider this amount too big for you to defend. It does not matter, as there are documents to back it up.This is a legacy being passed on to a next-of-kin. As I am not very sure of getting your consent on the issue I prefer not to divulge my full identity so as not to risk being disbarred. The English Bar considers it a breach of the oath of the English Bar. I need not emphasize to you that the sensitivity of this issue need not be toyed with by neglecting its confidentiality. I therefore appeal to you not discuss this request with anybody, even if you decline my request.I look forward to hearing from you soon.Yours trulyStephen Ayling.                                                                                                                                                                                                                                                                                                                                                                                                                                                                                                                                                                                                                                                                                                                                                                                                                                                                                                                                                                                                                                                                                                                                                                                                                                                                                                                                                            \n",
       "3  MR. CHEUNG PUIHANG SENG BANK LTD.DES VOEUX RD. BRANCH,CENTRAL HONG KONG,HONG KONG. Let me start by introducing myself. I am Mr.Cheung Pui director of operations of the Hang Seng Bank Ltd. I have an urgent business suggestion for you.I honestly apologize and hope I do not cause you much embarrassment by contacting you through this means for a transaction of this magnitude,but this is due to confidentiality and prompt access reposed on this medium.Furthermore,due to this issue on my hands now,it became necesary for me to seek your assistance, and it is imperative for me to know your opinionBefore the U.S and Iraqi war our client Major Fadi Bassem who was with the Iraqi forces and also business man made a numbered fixed deposit for 18 calendar months, with a value of Twenty Four millions Five Hundred Thousand United State Dollars only in my branch. Upon maturity several notice was sent to him, even during the war early this year. Again after the war  another notification was sent and still no response came from him. We later find out that the Major and his family had been killed during the war in bomb blast that hit their home.After further investigation it was also discovered that Major Fadi Basem  did not declare any next of kin in his official papers including the paper work of his bank deposit. And he also confided in me the last time he was at my office that no one except me knew of his deposit in my bank. So, Twenty Four millions Five Hundred Thousand United State Dollars is still lying in my bank and no one will ever come forward to claim it. What bothers me most is that according to the laws of my country at the expiration 5 years the funds will revert to the ownership of the Hong Kong Government if nobody applies to claim the funds. Against this backdrop, my suggestion to you is that I will like you as a foreigner to stand as the next of kin to Major Fadi Basem  so that you will be able to receive his funds. WHAT IS TO BE DONE:I want you to know that I have had everything planned out so that we shall come out successful. I have contacted an attorney that will prepare the necessary document that will back you up as the next of kin to Major Fadi Basem , all that is required from you at this stage is for you to provide me with your Full Names and Address so that the attorney can commence his job. After you have been made the next of kin, the attorney will also file in for claims on your behalf and secure the necessary approval and letter of probate in your favor for the move of the funds to an account that will be provided by you.There is no risk involved at all in the matter as we are going to adopt a legalized method and the attorney will prepare all the necessary documents. Please endeavor to observe utmost discretion in all matters concerning thisissue.Once the funds have been transferred to your nominated bank account we shall share in the ratio of 70% for me, 25% for you and 5% for any expenses incure during the transaction. Should you be interested please send me your full names and current residential address and I will prefer you to reach me via my private box, {che_Pui67@yahoo.com.hk} and finally after that i shall provide you with more details of this operation.Your earliest response to this letter will be appreciated.Kind Regards,Mr Cheung Pui.___________________________________________________________________________Mail envoy� par le service WebMail du Site PHP-Nuke- http://www.forcetacticalarmy.com   \n",
       "4  Not a surprising assessment from Embassy.                                                                                                                                                                                                                                                                                                                                                                                                                                                                                                                                                                                                                                                                                                                                                                                                                                                                                                                                                                                                                                                                                                                                                                                                                                                                                                                                                                                                                                                                                                                                                                                                                                                                                                                                                                                                                                                                                                                                                                                                                                                                                                                                                                                                                                                                                                                                                                                                                                                                                                                                                                                                                                                                                                                                                                                                                                                                                                                                                                                                                                                                                                                                                                                                                                                                                                                                                                                                                                                                                                                                                                                 \n",
       "\n",
       "   Class  \n",
       "0  1      \n",
       "1  0      \n",
       "2  1      \n",
       "3  1      \n",
       "4  0      "
      ]
     },
     "execution_count": 14,
     "metadata": {},
     "output_type": "execute_result"
    }
   ],
   "source": [
    "data10 = pd.read_csv('fraud_email_.csv')\n",
    "data10.head()"
   ]
  },
  {
   "cell_type": "code",
   "execution_count": 15,
   "metadata": {
    "ExecuteTime": {
     "end_time": "2020-05-25T07:44:49.139964Z",
     "start_time": "2020-05-25T07:44:48.793891Z"
    }
   },
   "outputs": [
    {
     "data": {
      "text/html": [
       "<div>\n",
       "<style scoped>\n",
       "    .dataframe tbody tr th:only-of-type {\n",
       "        vertical-align: middle;\n",
       "    }\n",
       "\n",
       "    .dataframe tbody tr th {\n",
       "        vertical-align: top;\n",
       "    }\n",
       "\n",
       "    .dataframe thead th {\n",
       "        text-align: right;\n",
       "    }\n",
       "</style>\n",
       "<table border=\"1\" class=\"dataframe\">\n",
       "  <thead>\n",
       "    <tr style=\"text-align: right;\">\n",
       "      <th></th>\n",
       "      <th>Unnamed: 0</th>\n",
       "      <th>text</th>\n",
       "    </tr>\n",
       "  </thead>\n",
       "  <tbody>\n",
       "    <tr>\n",
       "      <td>0</td>\n",
       "      <td>1</td>\n",
       "      <td>b'/nURGENT BUSINESS ASSISTANCE AND PARTNERSHIP./n/n/nDEAR FRIEND,/n/nI AM ( DR.) JAMES NGOLA, THE PERSONAL ASSISTANCE TO THE LATE CONGOLESE (PRESIDENT LAURENT KABILA) WHO WAS ASSASSINATED BY HIS BODY GUARD ON 16TH JAN. 2001./n/n/nTHE INCIDENT OCCURRED IN OUR PRESENCE WHILE WE WERE HOLDING MEETING WITH HIS EXCELLENCY OVER THE FINANCIAL RETURNS FROM THE DIAMOND SALES IN THE AREAS CONTROLLED BY (D.R.C.) DEMOCRATIC REPUBLIC OF CONGO FORCES AND THEIR FOREIGN ALLIES ANGOLA AND ZIMBABWE, HAVING RECEIVED THE PREVIOUS DAY (USD$100M) ONE HUNDRED MILLION UNITED STATES DOLLARS, CASH IN THREE DIPLOMATIC BOXES ROUTED THROUGH ZIMBABWE./n/nMY PURPOSE OF WRITING YOU THIS LETTER IS TO SOLICIT FOR YOUR ASSISTANCE AS TO BE A COVER TO THE FUND AND ALSO COLLABORATION IN MOVING THE SAID FUND INTO YOUR BANK ACCOUNT THE SUM OF (USD$25M) TWENTY FIVE MILLION UNITED STATES DOLLARS ONLY, WHICH I DEPOSITED WITH A SECURITY COMPANY IN GHANA, IN A DIPLOMATIC BOX AS GOLDS WORTH (USD$25M) TWENTY FIVE MILLION UNITED STATES DOLLARS ONLY FOR SAFE KEEPING IN A SECURITY VAULT FOR ANY FURTHER INVESTMENT PERHAPS IN YOUR COUNTRY. /n/nYOU WERE INTRODUCED TO ME BY A RELIABLE FRIEND OF MINE WHO IS A TRAVELLER,AND ALSO A MEMBER OF CHAMBER OF COMMERCE AS A RELIABLE AND TRUSTWORTHY PERSON WHOM I CAN RELY ON AS FOREIGN PARTNER, EVEN THOUGH THE NATURE OF THE TRANSACTION WAS NOT REVEALED TO HIM FOR SECURITY REASONS./n/n/nTHE (USD$25M) WAS PART OF A PROCEEDS FROM DIAMOND TRADE MEANT FOR THE LATE PRESIDENT LAURENT KABILA WHICH WAS DELIVERED THROUGH ZIMBABWE IN DIPLOMATIC BOXES. THE BOXES WERE KEPT UNDER MY CUSTODY BEFORE THE SAD EVENT THAT TOOK THE LIFE OF (MR. PRESIDENT).THE CONFUSION THAT ENSUED AFTER THE ASSASSINATION AND THE SPORADIC SHOOTING AMONG THE FACTIONS, I HAVE TO RUN AWAY FROM THE COUNTRY FOR MY DEAR LIFE AS I AM NOT A SOLDIER BUT A CIVIL SERVANT I CROSSED RIVER CONGO TO OTHER SIDE OF CONGO LIBREVILLE FROM THERE I MOVED TO THE THIRD COUNTRY GHANA WHERE I AM PRESENTLY TAKING REFUGE. /n/nAS A MATTER OF FACT, WHAT I URGENTLY NEEDED FROM YOU IS YOUR ASSISTANCE IN MOVING THIS MONEY INTO YOUR ACCOUNT IN YOUR COUNTRY FOR INVESTMENT WITHOUT RAISING EYEBROW. FOR YOUR ASSISTANCE I WILL GIVE YOU 20% OF THE TOTAL SUM AS YOUR OWN SHARE WHEN THE MONEY GETS TO YOUR ACCOUNT, WHILE 75% WILL BE FOR ME, OF WHICH WITH YOUR KIND ADVICE I HOPE TO INVEST IN PROFITABLE VENTURE IN YOUR COUNTRY IN OTHER TO SETTLE DOWN FOR MEANINGFUL LIFE, AS I AM TIRED OF LIVING IN A WAR ENVIRONMENT. /n/nTHE REMAINING 5% WILL BE USED TO OFFSET ANY COST INCURRED IN THE CAUSE OF MOVING THE MONEY TO YOUR ACCOUNT. IF THE PROPOSAL IS ACCEPTABLE TO YOU PLEASE CONTACT ME IMMEDIATELY THROUGH THE ABOVE TELEPHONE AND E-MAIL, TO ENABLE ME ARRANGE FACE TO FACE MEETING WITH YOU IN GHANA FOR THE CLEARANCE OF THE FUNDS BEFORE TRANSFRING IT TO YOUR BANK ACCOUNT AS SEEING IS BELIEVING. /n/nFINALLY, IT IS IMPORTANT ALSO THAT I LET YOU UNDERSTAND THAT THERE IS NO RISK INVOLVED WHATSOEVER AS THE MONEY HAD NO RECORD IN KINSHASA FOR IT WAS MEANT FOR THE PERSONAL USE OF (MR. PRESIDEND ) BEFORE THE NEFARIOUS INCIDENT OCCURRED, AND ALSO I HAVE ALL THE NECESSARY DOCUMENTS AS REGARDS TO THE FUNDS INCLUDING THE (CERTIFICATE OF DEPOSIT), AS I AM THE DEPOSITOR OF THE CONSIGNMENT./n/n/nLOOKING FORWARD TO YOUR URGENT RESPONSE./n/nYOUR SINCERELY,/n/nMR. JAMES NGOLA. /n/n/n/n/n/n/n/n/n/n'</td>\n",
       "    </tr>\n",
       "    <tr>\n",
       "      <td>1</td>\n",
       "      <td>2</td>\n",
       "      <td>b'/nDear Friend,/n/nI am Mr. Ben Suleman a custom officer and work as Assistant controller of the Customs and Excise department Of the Federal Ministry of Internal Affairs stationed at the Murtala Mohammed International Airport, Ikeja, Lagos-Nigeria./n/nAfter the sudden death of the former Head of state of Nigeria General Sanni Abacha on June 8th 1998 his aides and immediate members of his family were arrested while trying to escape from Nigeria in a Chartered jet to Saudi Arabia with 6 trunk boxes Marked \"Diplomatic Baggage\". Acting on a tip-off as they attempted to board the Air Craft,my officials carried out a thorough search on the air craft and discovered that the 6 trunk boxes contained foreign currencies amounting to US$197,570,000.00(One Hundred and  Ninety-Seven Million Five Hundred Seventy Thousand United States Dollars)./n/nI declared only (5) five boxes to the government and withheld one (1) in my custody containing the sum of (US$30,000,000.00) Thirty Million United States Dollars Only, which has been disguised to prevent their being discovered during transportation process.Due to several media reports on the late head of state about all the money him and his co-government officials stole from our government treasury amounting/nto US$55 Billion Dollars (ref:ngrguardiannews.com) of July 2nd 1999. Even the London times of July 1998 reported that General Abacha has over US$3.Billion dollars in one account overseas. We decided to conceal this one (1)box till the situation is calm and quite on the issue. The box was thus deposited with a security company here in Nigeria and tagged as \"Precious Stones and Jewellry\" in other that its/ncontent will not be discovered. Now that all is calm, we (myself and two of my colleagues in the operations team) are now ready to move this box out of the country through a diplomatic arrangement which is the safest means. /n/nHowever as government officials the Civil Service Code of Conduct does not allow us by law to operate any foreign account or own foreign investment and the amount of money that can be found in our account/ncannot be more than our salary on the average, thus our handicapp and our need for your assistance to help collect and keep safely in your account this money./n/nTherefore we want you to assist us in moving this money out of Nigeria. We shall definitely compensate you handsomely for the assistance. We can do this by instructing the Security Company here in Nigeria to/nmove the consignment to their affiliate branch office outside Nigeria through diplomatic means and the consignment will be termed as Precious Stones and Jewelleries\" which you bought during your visit to Nigeria and is being transfered to your country from here for safe keeping. Then we can arrange to meet at the destination country to take the delivery of the consignment. You will thereafter open an account there and lodge the Money there and gradually instruct remittance to your Country. /n/nThis business is 100% risk free for you so please treat this matter with utmost confidentiality .If you indicate your interest to assist us please just e-mail me for more Explanation on how we plan to execute the transaction./n/nExpecting your response urgently./n/nBest regards,/n/nMr. Ben Suleman/n'</td>\n",
       "    </tr>\n",
       "    <tr>\n",
       "      <td>2</td>\n",
       "      <td>3</td>\n",
       "      <td>b'/nFROM HIS ROYAL MAJESTY (HRM) CROWN RULER OF ELEME KINGDOM /nCHIEF DANIEL ELEME, PHD, EZE 1 OF ELEME.E-MAIL /nADDRESS:obong_715@epatra.com  /n/nATTENTION:PRESIDENT,CEO Sir/ Madam. /n/nThis letter might surprise you because we have met/nneither in person nor by correspondence. But I believe/nit is one day that you got to know somebody either in/nphysical or through correspondence. /n/nI got your contact through discreet inquiry from the/nchambers of commerce and industry of your country on/nthe net, you and your organization were revealed as/nbeing quite astute in private entrepreneurship, one/nhas no doubt in your ability to handle a financialbusiness transaction. /n/nHowever, I am the first son of His Royal/nmajesty,Obong.D. Eleme , and the traditional Ruler of/nEleme Province in the oil producing area of River/nState of Nigeria. I am making this contact to you in/nrespect of US$60,000,000.00 (Sixty Million United/nState Dollars), which I inherited, from my latefather. /n/nThis money was accumulated from royalties paid to my/nfather as compensation by the oil firms located in our/narea as a result of oil presence on our land, which/nhamper agriculture, which is our major source oflivelihood. /n/nUnfortunately my father died from protracted/ndiabetes.But before his death he called my attention/nand informed me that he lodged some funds on a two/nboxes with a security firm with an open beneficiary/nstatus. The lodgment security code number was also/nrevealed to me, he then advised me to look for a/nreliable business partner abroad, that will assist me/nin investing the money in a lucrative business as a/nresult of economic instability in Nigeria. So this is/nthe main reason why I am contacting you for us to move/nthis money from the security firm to any Country of/nyour choice for investment purpose. /n/nSo I will like you to be the ultimate beneficiary, so/nthat the funds can be moved in your name and/nparticulars to any Country of your choice where it/nwill be claimed and invested. Hence my father have had/nintimated the security firm personnel that the/nbeneficiary of the box is his foreign partner whose/nparticulars will be forwarded to the firm when due. /n/nBut I will guide you Accordingly. As soon as the funds/nreach, I will then come over to meet you in person, so/nthat we can discuss physically on investment/npotentials. Based on this assistance my Family and I/nhave unanimously decided to give you 30% of the total/nmoney, 5% for Charity home, 10% for expenses, which/nmay arise during this transaction, Fax and phone bills/ninclusive. The balance of 55% you will invest andmanaged for my Family. /n/nI hereby guarantee you that this is not government/nmoney, it is not drug money and it is not money from/narms deal. Though you have to maintain high degree of/nconfidentiality on this matter. I will give more/ndetails about the proceedings of this transaction as/nsoon as I receive your favorable reply. /n/nPlease reply to my Email Address:obong_715@epatra.com/nI hope this will be the beginning of a prosperous/nrelationship between my family and your family. /n/nNevertheless if you are for any reason not interested,/nkindly inform me immediately so that I will look foranother contact. /n/nI am waiting for your quick response. /n/nYours faithfully, /n/nPrince Obong Abbot /n/n'</td>\n",
       "    </tr>\n",
       "    <tr>\n",
       "      <td>3</td>\n",
       "      <td>4</td>\n",
       "      <td>b'/nFROM HIS ROYAL MAJESTY (HRM) CROWN RULER OF ELEME KINGDOM /nCHIEF DANIEL ELEME, PHD, EZE 1 OF ELEME.E-MAIL /nADDRESS:obong_715@epatra.com  /n/nATTENTION:PRESIDENT,CEO Sir/ Madam. /n/nThis letter might surprise you because we have met/nneither in person nor by correspondence. But I believe/nit is one day that you got to know somebody either in/nphysical or through correspondence. /n/nI got your contact through discreet inquiry from the/nchambers of commerce and industry of your country on/nthe net, you and your organization were revealed as/nbeing quite astute in private entrepreneurship, one/nhas no doubt in your ability to handle a financialbusiness transaction. /n/nHowever, I am the first son of His Royal/nmajesty,Obong.D. Eleme , and the traditional Ruler of/nEleme Province in the oil producing area of River/nState of Nigeria. I am making this contact to you in/nrespect of US$60,000,000.00 (Sixty Million United/nState Dollars), which I inherited, from my latefather. /n/nThis money was accumulated from royalties paid to my/nfather as compensation by the oil firms located in our/narea as a result of oil presence on our land, which/nhamper agriculture, which is our major source oflivelihood. /n/nUnfortunately my father died from protracted/ndiabetes.But before his death he called my attention/nand informed me that he lodged some funds on a two/nboxes with a security firm with an open beneficiary/nstatus. The lodgment security code number was also/nrevealed to me, he then advised me to look for a/nreliable business partner abroad, that will assist me/nin investing the money in a lucrative business as a/nresult of economic instability in Nigeria. So this is/nthe main reason why I am contacting you for us to move/nthis money from the security firm to any Country of/nyour choice for investment purpose. /n/nSo I will like you to be the ultimate beneficiary, so/nthat the funds can be moved in your name and/nparticulars to any Country of your choice where it/nwill be claimed and invested. Hence my father have had/nintimated the security firm personnel that the/nbeneficiary of the box is his foreign partner whose/nparticulars will be forwarded to the firm when due. /n/nBut I will guide you Accordingly. As soon as the funds/nreach, I will then come over to meet you in person, so/nthat we can discuss physically on investment/npotentials. Based on this assistance my Family and I/nhave unanimously decided to give you 30% of the total/nmoney, 5% for Charity home, 10% for expenses, which/nmay arise during this transaction, Fax and phone bills/ninclusive. The balance of 55% you will invest andmanaged for my Family. /n/nI hereby guarantee you that this is not government/nmoney, it is not drug money and it is not money from/narms deal. Though you have to maintain high degree of/nconfidentiality on this matter. I will give more/ndetails about the proceedings of this transaction as/nsoon as I receive your favorable reply. /n/nPlease reply to my Email Address:obong_715@epatra.com/nI hope this will be the beginning of a prosperous/nrelationship between my family and your family. /n/nNevertheless if you are for any reason not interested,/nkindly inform me immediately so that I will look foranother contact. /n/nI am waiting for your quick response. /n/nYours faithfully, /n/nPrince Obong Eleme/n'</td>\n",
       "    </tr>\n",
       "    <tr>\n",
       "      <td>4</td>\n",
       "      <td>5</td>\n",
       "      <td>b'/nDear sir, /n /nIt is with a heart full of hope that I write to seek your help in respect of the context below. I am Mrs. Maryam Abacha the former first lady of the former Military Head of State of Nigeria General Sani Abacha whose sudden death occurred on 8th of June 1998 as a result of cardiac arrest (heart attack) while on the seat of power. /nI have no doubt about your capability and good-will to assist me in receiving into your custody (for safety) the sum of US$25 Million willed and deposited in my favour by my late husband in a security and deposit company. Though my contact to you for this assistance is not anchored on any personal ecommendation, I pray your understanding, good will and sincere assistance to respond to this message with honest intensions and concern. /nThis money is currently deposited here with a security company as miscellaneous awaiting collection and according to the agreement entered into at the time of deposit between my late husband and the Security Company at the time of deposit; the collection centre is in Ghana. As it is legally required, the administration of my late husband\\'s properties is under the authority of the family\\'s lawyer Tony Musa. /n /nMy Dear JK, since the demise of my husband, the present regime has been probing my late husband\\'s wealth and properties, the London Newsweek of 13th march 2000 referred. The investigating team led by Enrico Monfrini, the lawyer acting on behalf of the Nigerian government has so far submitted their report and presently, some liquid cash and assets, movable and immovable, have been frozen and seized both locally here and internationally and my last hope is rested on the immediate security of this fund in your custody. Also, Johnnie Cochran, the lawyer who defended OJ Simpson, has been brought in by the Abacha entourage to help them retain the disputed funds. Fortunately, our family lawyer had secretly protected the \"Personal will\" of my husband from the notice of the investigators and have strictly advised that the willed money be urgently moved into an overseas account of Trusted Foreign family friend without delay. For security reasons and f!/nurther advise,! no relations or fr! /niends of ours should be used; as this is a measure of security. The government had earlier placed foreign travel embargo on all our family members and seized all known local and International outfits of our business empire. /nThe situation has been so terrible that we are virtually living on the assistance of well-wishers. In view of this plight, I expect you to be trustworthy and kind enough to respond to this \"SOS\" call to save my children and I from a hopeless future. /nI hereby agree to compensate your sincere and candid effort, immensely, which will be discussed between you, the Attorney and I. On your immediate response, the Attorney will travel to Ghana where both of you will meet, and thereafter proceed to the deposit company for the claims. /nThe documentations include, most importantly, Power of Attorney and Certificate of Deposit amongst few others. These documents will be sent to you by Fax, as you would have to present them for proper claims. '</td>\n",
       "    </tr>\n",
       "  </tbody>\n",
       "</table>\n",
       "</div>"
      ],
      "text/plain": [
       "   Unnamed: 0  \\\n",
       "0  1            \n",
       "1  2            \n",
       "2  3            \n",
       "3  4            \n",
       "4  5            \n",
       "\n",
       "                                                                                                                                                                                                                                                                                                                                                                                                                                                                                                                                                                                                                                                                                                                                                                                                                                                                                                                                                                                                                                                                                                                                                                                                                                                                                                                                                                                                                                                                                                                                                                                                                                                                                                                                                                                                                                                                                                                                                                                                                                                                                                                                                                                                                                                                                                                                                                                                                                                                                                                                                                                                                                                                                                                                                                                                                                                                                                                                                                                                                                                                                                                                                                                                                                                                                                                                                                                                                                                                           text  \n",
       "0  b'/nURGENT BUSINESS ASSISTANCE AND PARTNERSHIP./n/n/nDEAR FRIEND,/n/nI AM ( DR.) JAMES NGOLA, THE PERSONAL ASSISTANCE TO THE LATE CONGOLESE (PRESIDENT LAURENT KABILA) WHO WAS ASSASSINATED BY HIS BODY GUARD ON 16TH JAN. 2001./n/n/nTHE INCIDENT OCCURRED IN OUR PRESENCE WHILE WE WERE HOLDING MEETING WITH HIS EXCELLENCY OVER THE FINANCIAL RETURNS FROM THE DIAMOND SALES IN THE AREAS CONTROLLED BY (D.R.C.) DEMOCRATIC REPUBLIC OF CONGO FORCES AND THEIR FOREIGN ALLIES ANGOLA AND ZIMBABWE, HAVING RECEIVED THE PREVIOUS DAY (USD$100M) ONE HUNDRED MILLION UNITED STATES DOLLARS, CASH IN THREE DIPLOMATIC BOXES ROUTED THROUGH ZIMBABWE./n/nMY PURPOSE OF WRITING YOU THIS LETTER IS TO SOLICIT FOR YOUR ASSISTANCE AS TO BE A COVER TO THE FUND AND ALSO COLLABORATION IN MOVING THE SAID FUND INTO YOUR BANK ACCOUNT THE SUM OF (USD$25M) TWENTY FIVE MILLION UNITED STATES DOLLARS ONLY, WHICH I DEPOSITED WITH A SECURITY COMPANY IN GHANA, IN A DIPLOMATIC BOX AS GOLDS WORTH (USD$25M) TWENTY FIVE MILLION UNITED STATES DOLLARS ONLY FOR SAFE KEEPING IN A SECURITY VAULT FOR ANY FURTHER INVESTMENT PERHAPS IN YOUR COUNTRY. /n/nYOU WERE INTRODUCED TO ME BY A RELIABLE FRIEND OF MINE WHO IS A TRAVELLER,AND ALSO A MEMBER OF CHAMBER OF COMMERCE AS A RELIABLE AND TRUSTWORTHY PERSON WHOM I CAN RELY ON AS FOREIGN PARTNER, EVEN THOUGH THE NATURE OF THE TRANSACTION WAS NOT REVEALED TO HIM FOR SECURITY REASONS./n/n/nTHE (USD$25M) WAS PART OF A PROCEEDS FROM DIAMOND TRADE MEANT FOR THE LATE PRESIDENT LAURENT KABILA WHICH WAS DELIVERED THROUGH ZIMBABWE IN DIPLOMATIC BOXES. THE BOXES WERE KEPT UNDER MY CUSTODY BEFORE THE SAD EVENT THAT TOOK THE LIFE OF (MR. PRESIDENT).THE CONFUSION THAT ENSUED AFTER THE ASSASSINATION AND THE SPORADIC SHOOTING AMONG THE FACTIONS, I HAVE TO RUN AWAY FROM THE COUNTRY FOR MY DEAR LIFE AS I AM NOT A SOLDIER BUT A CIVIL SERVANT I CROSSED RIVER CONGO TO OTHER SIDE OF CONGO LIBREVILLE FROM THERE I MOVED TO THE THIRD COUNTRY GHANA WHERE I AM PRESENTLY TAKING REFUGE. /n/nAS A MATTER OF FACT, WHAT I URGENTLY NEEDED FROM YOU IS YOUR ASSISTANCE IN MOVING THIS MONEY INTO YOUR ACCOUNT IN YOUR COUNTRY FOR INVESTMENT WITHOUT RAISING EYEBROW. FOR YOUR ASSISTANCE I WILL GIVE YOU 20% OF THE TOTAL SUM AS YOUR OWN SHARE WHEN THE MONEY GETS TO YOUR ACCOUNT, WHILE 75% WILL BE FOR ME, OF WHICH WITH YOUR KIND ADVICE I HOPE TO INVEST IN PROFITABLE VENTURE IN YOUR COUNTRY IN OTHER TO SETTLE DOWN FOR MEANINGFUL LIFE, AS I AM TIRED OF LIVING IN A WAR ENVIRONMENT. /n/nTHE REMAINING 5% WILL BE USED TO OFFSET ANY COST INCURRED IN THE CAUSE OF MOVING THE MONEY TO YOUR ACCOUNT. IF THE PROPOSAL IS ACCEPTABLE TO YOU PLEASE CONTACT ME IMMEDIATELY THROUGH THE ABOVE TELEPHONE AND E-MAIL, TO ENABLE ME ARRANGE FACE TO FACE MEETING WITH YOU IN GHANA FOR THE CLEARANCE OF THE FUNDS BEFORE TRANSFRING IT TO YOUR BANK ACCOUNT AS SEEING IS BELIEVING. /n/nFINALLY, IT IS IMPORTANT ALSO THAT I LET YOU UNDERSTAND THAT THERE IS NO RISK INVOLVED WHATSOEVER AS THE MONEY HAD NO RECORD IN KINSHASA FOR IT WAS MEANT FOR THE PERSONAL USE OF (MR. PRESIDEND ) BEFORE THE NEFARIOUS INCIDENT OCCURRED, AND ALSO I HAVE ALL THE NECESSARY DOCUMENTS AS REGARDS TO THE FUNDS INCLUDING THE (CERTIFICATE OF DEPOSIT), AS I AM THE DEPOSITOR OF THE CONSIGNMENT./n/n/nLOOKING FORWARD TO YOUR URGENT RESPONSE./n/nYOUR SINCERELY,/n/nMR. JAMES NGOLA. /n/n/n/n/n/n/n/n/n/n'         \n",
       "1  b'/nDear Friend,/n/nI am Mr. Ben Suleman a custom officer and work as Assistant controller of the Customs and Excise department Of the Federal Ministry of Internal Affairs stationed at the Murtala Mohammed International Airport, Ikeja, Lagos-Nigeria./n/nAfter the sudden death of the former Head of state of Nigeria General Sanni Abacha on June 8th 1998 his aides and immediate members of his family were arrested while trying to escape from Nigeria in a Chartered jet to Saudi Arabia with 6 trunk boxes Marked \"Diplomatic Baggage\". Acting on a tip-off as they attempted to board the Air Craft,my officials carried out a thorough search on the air craft and discovered that the 6 trunk boxes contained foreign currencies amounting to US$197,570,000.00(One Hundred and  Ninety-Seven Million Five Hundred Seventy Thousand United States Dollars)./n/nI declared only (5) five boxes to the government and withheld one (1) in my custody containing the sum of (US$30,000,000.00) Thirty Million United States Dollars Only, which has been disguised to prevent their being discovered during transportation process.Due to several media reports on the late head of state about all the money him and his co-government officials stole from our government treasury amounting/nto US$55 Billion Dollars (ref:ngrguardiannews.com) of July 2nd 1999. Even the London times of July 1998 reported that General Abacha has over US$3.Billion dollars in one account overseas. We decided to conceal this one (1)box till the situation is calm and quite on the issue. The box was thus deposited with a security company here in Nigeria and tagged as \"Precious Stones and Jewellry\" in other that its/ncontent will not be discovered. Now that all is calm, we (myself and two of my colleagues in the operations team) are now ready to move this box out of the country through a diplomatic arrangement which is the safest means. /n/nHowever as government officials the Civil Service Code of Conduct does not allow us by law to operate any foreign account or own foreign investment and the amount of money that can be found in our account/ncannot be more than our salary on the average, thus our handicapp and our need for your assistance to help collect and keep safely in your account this money./n/nTherefore we want you to assist us in moving this money out of Nigeria. We shall definitely compensate you handsomely for the assistance. We can do this by instructing the Security Company here in Nigeria to/nmove the consignment to their affiliate branch office outside Nigeria through diplomatic means and the consignment will be termed as Precious Stones and Jewelleries\" which you bought during your visit to Nigeria and is being transfered to your country from here for safe keeping. Then we can arrange to meet at the destination country to take the delivery of the consignment. You will thereafter open an account there and lodge the Money there and gradually instruct remittance to your Country. /n/nThis business is 100% risk free for you so please treat this matter with utmost confidentiality .If you indicate your interest to assist us please just e-mail me for more Explanation on how we plan to execute the transaction./n/nExpecting your response urgently./n/nBest regards,/n/nMr. Ben Suleman/n'                                                                    \n",
       "2  b'/nFROM HIS ROYAL MAJESTY (HRM) CROWN RULER OF ELEME KINGDOM /nCHIEF DANIEL ELEME, PHD, EZE 1 OF ELEME.E-MAIL /nADDRESS:obong_715@epatra.com  /n/nATTENTION:PRESIDENT,CEO Sir/ Madam. /n/nThis letter might surprise you because we have met/nneither in person nor by correspondence. But I believe/nit is one day that you got to know somebody either in/nphysical or through correspondence. /n/nI got your contact through discreet inquiry from the/nchambers of commerce and industry of your country on/nthe net, you and your organization were revealed as/nbeing quite astute in private entrepreneurship, one/nhas no doubt in your ability to handle a financialbusiness transaction. /n/nHowever, I am the first son of His Royal/nmajesty,Obong.D. Eleme , and the traditional Ruler of/nEleme Province in the oil producing area of River/nState of Nigeria. I am making this contact to you in/nrespect of US$60,000,000.00 (Sixty Million United/nState Dollars), which I inherited, from my latefather. /n/nThis money was accumulated from royalties paid to my/nfather as compensation by the oil firms located in our/narea as a result of oil presence on our land, which/nhamper agriculture, which is our major source oflivelihood. /n/nUnfortunately my father died from protracted/ndiabetes.But before his death he called my attention/nand informed me that he lodged some funds on a two/nboxes with a security firm with an open beneficiary/nstatus. The lodgment security code number was also/nrevealed to me, he then advised me to look for a/nreliable business partner abroad, that will assist me/nin investing the money in a lucrative business as a/nresult of economic instability in Nigeria. So this is/nthe main reason why I am contacting you for us to move/nthis money from the security firm to any Country of/nyour choice for investment purpose. /n/nSo I will like you to be the ultimate beneficiary, so/nthat the funds can be moved in your name and/nparticulars to any Country of your choice where it/nwill be claimed and invested. Hence my father have had/nintimated the security firm personnel that the/nbeneficiary of the box is his foreign partner whose/nparticulars will be forwarded to the firm when due. /n/nBut I will guide you Accordingly. As soon as the funds/nreach, I will then come over to meet you in person, so/nthat we can discuss physically on investment/npotentials. Based on this assistance my Family and I/nhave unanimously decided to give you 30% of the total/nmoney, 5% for Charity home, 10% for expenses, which/nmay arise during this transaction, Fax and phone bills/ninclusive. The balance of 55% you will invest andmanaged for my Family. /n/nI hereby guarantee you that this is not government/nmoney, it is not drug money and it is not money from/narms deal. Though you have to maintain high degree of/nconfidentiality on this matter. I will give more/ndetails about the proceedings of this transaction as/nsoon as I receive your favorable reply. /n/nPlease reply to my Email Address:obong_715@epatra.com/nI hope this will be the beginning of a prosperous/nrelationship between my family and your family. /n/nNevertheless if you are for any reason not interested,/nkindly inform me immediately so that I will look foranother contact. /n/nI am waiting for your quick response. /n/nYours faithfully, /n/nPrince Obong Abbot /n/n'  \n",
       "3  b'/nFROM HIS ROYAL MAJESTY (HRM) CROWN RULER OF ELEME KINGDOM /nCHIEF DANIEL ELEME, PHD, EZE 1 OF ELEME.E-MAIL /nADDRESS:obong_715@epatra.com  /n/nATTENTION:PRESIDENT,CEO Sir/ Madam. /n/nThis letter might surprise you because we have met/nneither in person nor by correspondence. But I believe/nit is one day that you got to know somebody either in/nphysical or through correspondence. /n/nI got your contact through discreet inquiry from the/nchambers of commerce and industry of your country on/nthe net, you and your organization were revealed as/nbeing quite astute in private entrepreneurship, one/nhas no doubt in your ability to handle a financialbusiness transaction. /n/nHowever, I am the first son of His Royal/nmajesty,Obong.D. Eleme , and the traditional Ruler of/nEleme Province in the oil producing area of River/nState of Nigeria. I am making this contact to you in/nrespect of US$60,000,000.00 (Sixty Million United/nState Dollars), which I inherited, from my latefather. /n/nThis money was accumulated from royalties paid to my/nfather as compensation by the oil firms located in our/narea as a result of oil presence on our land, which/nhamper agriculture, which is our major source oflivelihood. /n/nUnfortunately my father died from protracted/ndiabetes.But before his death he called my attention/nand informed me that he lodged some funds on a two/nboxes with a security firm with an open beneficiary/nstatus. The lodgment security code number was also/nrevealed to me, he then advised me to look for a/nreliable business partner abroad, that will assist me/nin investing the money in a lucrative business as a/nresult of economic instability in Nigeria. So this is/nthe main reason why I am contacting you for us to move/nthis money from the security firm to any Country of/nyour choice for investment purpose. /n/nSo I will like you to be the ultimate beneficiary, so/nthat the funds can be moved in your name and/nparticulars to any Country of your choice where it/nwill be claimed and invested. Hence my father have had/nintimated the security firm personnel that the/nbeneficiary of the box is his foreign partner whose/nparticulars will be forwarded to the firm when due. /n/nBut I will guide you Accordingly. As soon as the funds/nreach, I will then come over to meet you in person, so/nthat we can discuss physically on investment/npotentials. Based on this assistance my Family and I/nhave unanimously decided to give you 30% of the total/nmoney, 5% for Charity home, 10% for expenses, which/nmay arise during this transaction, Fax and phone bills/ninclusive. The balance of 55% you will invest andmanaged for my Family. /n/nI hereby guarantee you that this is not government/nmoney, it is not drug money and it is not money from/narms deal. Though you have to maintain high degree of/nconfidentiality on this matter. I will give more/ndetails about the proceedings of this transaction as/nsoon as I receive your favorable reply. /n/nPlease reply to my Email Address:obong_715@epatra.com/nI hope this will be the beginning of a prosperous/nrelationship between my family and your family. /n/nNevertheless if you are for any reason not interested,/nkindly inform me immediately so that I will look foranother contact. /n/nI am waiting for your quick response. /n/nYours faithfully, /n/nPrince Obong Eleme/n'     \n",
       "4  b'/nDear sir, /n /nIt is with a heart full of hope that I write to seek your help in respect of the context below. I am Mrs. Maryam Abacha the former first lady of the former Military Head of State of Nigeria General Sani Abacha whose sudden death occurred on 8th of June 1998 as a result of cardiac arrest (heart attack) while on the seat of power. /nI have no doubt about your capability and good-will to assist me in receiving into your custody (for safety) the sum of US$25 Million willed and deposited in my favour by my late husband in a security and deposit company. Though my contact to you for this assistance is not anchored on any personal ecommendation, I pray your understanding, good will and sincere assistance to respond to this message with honest intensions and concern. /nThis money is currently deposited here with a security company as miscellaneous awaiting collection and according to the agreement entered into at the time of deposit between my late husband and the Security Company at the time of deposit; the collection centre is in Ghana. As it is legally required, the administration of my late husband\\'s properties is under the authority of the family\\'s lawyer Tony Musa. /n /nMy Dear JK, since the demise of my husband, the present regime has been probing my late husband\\'s wealth and properties, the London Newsweek of 13th march 2000 referred. The investigating team led by Enrico Monfrini, the lawyer acting on behalf of the Nigerian government has so far submitted their report and presently, some liquid cash and assets, movable and immovable, have been frozen and seized both locally here and internationally and my last hope is rested on the immediate security of this fund in your custody. Also, Johnnie Cochran, the lawyer who defended OJ Simpson, has been brought in by the Abacha entourage to help them retain the disputed funds. Fortunately, our family lawyer had secretly protected the \"Personal will\" of my husband from the notice of the investigators and have strictly advised that the willed money be urgently moved into an overseas account of Trusted Foreign family friend without delay. For security reasons and f!/nurther advise,! no relations or fr! /niends of ours should be used; as this is a measure of security. The government had earlier placed foreign travel embargo on all our family members and seized all known local and International outfits of our business empire. /nThe situation has been so terrible that we are virtually living on the assistance of well-wishers. In view of this plight, I expect you to be trustworthy and kind enough to respond to this \"SOS\" call to save my children and I from a hopeless future. /nI hereby agree to compensate your sincere and candid effort, immensely, which will be discussed between you, the Attorney and I. On your immediate response, the Attorney will travel to Ghana where both of you will meet, and thereafter proceed to the deposit company for the claims. /nThe documentations include, most importantly, Power of Attorney and Certificate of Deposit amongst few others. These documents will be sent to you by Fax, as you would have to present them for proper claims. '                                                                                                                                                                      "
      ]
     },
     "execution_count": 15,
     "metadata": {},
     "output_type": "execute_result"
    }
   ],
   "source": [
    "data11 = pd.read_csv('emails_text.csv', encoding='latin')\n",
    "data11['text'] = data11['text'].str.encode('utf-8')\n",
    "data11.head()"
   ]
  },
  {
   "cell_type": "markdown",
   "metadata": {},
   "source": [
    "## Integration"
   ]
  },
  {
   "cell_type": "code",
   "execution_count": 16,
   "metadata": {
    "ExecuteTime": {
     "end_time": "2020-05-25T07:44:49.152931Z",
     "start_time": "2020-05-25T07:44:49.142957Z"
    }
   },
   "outputs": [],
   "source": [
    "data = pd.DataFrame(columns=['Text', 'Spam'])"
   ]
  },
  {
   "cell_type": "code",
   "execution_count": 17,
   "metadata": {
    "ExecuteTime": {
     "end_time": "2020-05-25T07:47:28.755149Z",
     "start_time": "2020-05-25T07:44:49.154924Z"
    }
   },
   "outputs": [
    {
     "data": {
      "application/vnd.jupyter.widget-view+json": {
       "model_id": "91c89e462ab84da6a06138d4c33bc325",
       "version_major": 2,
       "version_minor": 0
      },
      "text/plain": [
       "HBox(children=(IntProgress(value=0, max=5728), HTML(value='')))"
      ]
     },
     "metadata": {},
     "output_type": "display_data"
    },
    {
     "name": "stdout",
     "output_type": "stream",
     "text": [
      "\n"
     ]
    },
    {
     "data": {
      "application/vnd.jupyter.widget-view+json": {
       "model_id": "c1ae28601a2a47dcb34aa2b0954c1269",
       "version_major": 2,
       "version_minor": 0
      },
      "text/plain": [
       "HBox(children=(IntProgress(value=0, max=5572), HTML(value='')))"
      ]
     },
     "metadata": {},
     "output_type": "display_data"
    },
    {
     "name": "stdout",
     "output_type": "stream",
     "text": [
      "\n"
     ]
    },
    {
     "data": {
      "application/vnd.jupyter.widget-view+json": {
       "model_id": "6ba7a212a3ae420495b800418f9e5909",
       "version_major": 2,
       "version_minor": 0
      },
      "text/plain": [
       "HBox(children=(IntProgress(value=0, max=350), HTML(value='')))"
      ]
     },
     "metadata": {},
     "output_type": "display_data"
    },
    {
     "name": "stdout",
     "output_type": "stream",
     "text": [
      "\n"
     ]
    },
    {
     "data": {
      "application/vnd.jupyter.widget-view+json": {
       "model_id": "9ddb1245e1a74eb79c9800d1e3582fba",
       "version_major": 2,
       "version_minor": 0
      },
      "text/plain": [
       "HBox(children=(IntProgress(value=0, max=350), HTML(value='')))"
      ]
     },
     "metadata": {},
     "output_type": "display_data"
    },
    {
     "name": "stdout",
     "output_type": "stream",
     "text": [
      "\n"
     ]
    },
    {
     "data": {
      "application/vnd.jupyter.widget-view+json": {
       "model_id": "2e68e22f7de644e9b98a2aaffbed2b25",
       "version_major": 2,
       "version_minor": 0
      },
      "text/plain": [
       "HBox(children=(IntProgress(value=0, max=438), HTML(value='')))"
      ]
     },
     "metadata": {},
     "output_type": "display_data"
    },
    {
     "name": "stdout",
     "output_type": "stream",
     "text": [
      "\n"
     ]
    },
    {
     "data": {
      "application/vnd.jupyter.widget-view+json": {
       "model_id": "7f69a34fcb2545d484a8601ad522390f",
       "version_major": 2,
       "version_minor": 0
      },
      "text/plain": [
       "HBox(children=(IntProgress(value=0, max=448), HTML(value='')))"
      ]
     },
     "metadata": {},
     "output_type": "display_data"
    },
    {
     "name": "stdout",
     "output_type": "stream",
     "text": [
      "\n"
     ]
    },
    {
     "data": {
      "application/vnd.jupyter.widget-view+json": {
       "model_id": "fa1f7ddaca004b07aba7a27148a26aa6",
       "version_major": 2,
       "version_minor": 0
      },
      "text/plain": [
       "HBox(children=(IntProgress(value=0, max=370), HTML(value='')))"
      ]
     },
     "metadata": {},
     "output_type": "display_data"
    },
    {
     "name": "stdout",
     "output_type": "stream",
     "text": [
      "\n"
     ]
    },
    {
     "data": {
      "application/vnd.jupyter.widget-view+json": {
       "model_id": "a6ee2d66940042ff8a1140f1aabf05dd",
       "version_major": 2,
       "version_minor": 0
      },
      "text/plain": [
       "HBox(children=(IntProgress(value=0, max=3000), HTML(value='')))"
      ]
     },
     "metadata": {},
     "output_type": "display_data"
    },
    {
     "name": "stdout",
     "output_type": "stream",
     "text": [
      "\n"
     ]
    },
    {
     "data": {
      "application/vnd.jupyter.widget-view+json": {
       "model_id": "95dec2e56ad5425b8f7c7392d06e37b2",
       "version_major": 2,
       "version_minor": 0
      },
      "text/plain": [
       "HBox(children=(IntProgress(value=0, max=3052), HTML(value='')))"
      ]
     },
     "metadata": {},
     "output_type": "display_data"
    },
    {
     "name": "stdout",
     "output_type": "stream",
     "text": [
      "\n"
     ]
    },
    {
     "data": {
      "application/vnd.jupyter.widget-view+json": {
       "model_id": "a0e2f29f507a40599139a6bc1ded0061",
       "version_major": 2,
       "version_minor": 0
      },
      "text/plain": [
       "HBox(children=(IntProgress(value=0, max=11929), HTML(value='')))"
      ]
     },
     "metadata": {},
     "output_type": "display_data"
    },
    {
     "name": "stdout",
     "output_type": "stream",
     "text": [
      "\n"
     ]
    },
    {
     "data": {
      "application/vnd.jupyter.widget-view+json": {
       "model_id": "c3ef2abcb2c741a5b7c41be16c9339e8",
       "version_major": 2,
       "version_minor": 0
      },
      "text/plain": [
       "HBox(children=(IntProgress(value=0, max=5187), HTML(value='')))"
      ]
     },
     "metadata": {},
     "output_type": "display_data"
    },
    {
     "name": "stdout",
     "output_type": "stream",
     "text": [
      "\n",
      "Done 33168\n"
     ]
    }
   ],
   "source": [
    "for i in trange(len(data1)):\n",
    "    data = pd.concat([data, pd.DataFrame({\n",
    "        'Text': [data1['text'][i].replace('Subject: ', '')],\n",
    "        'Spam': [data1['spam'][i]]\n",
    "    })])\n",
    "\n",
    "for i in trange(len(data2)):\n",
    "    data = pd.concat([data, pd.DataFrame({\n",
    "        'Text': [data2['message'][i]],\n",
    "        'Spam': [int(data2['label'][i] == 'spam')]\n",
    "    })])\n",
    "\n",
    "for i in trange(len(data3)):\n",
    "    data = pd.concat([data, pd.DataFrame({\n",
    "        'Text': [data3['CONTENT'][i]],\n",
    "        'Spam': [data3['CLASS'][i]]\n",
    "    })])\n",
    "\n",
    "for i in trange(len(data4)):\n",
    "    data = pd.concat([data, pd.DataFrame({\n",
    "        'Text': [data4['CONTENT'][i]],\n",
    "        'Spam': [data4['CLASS'][i]]\n",
    "    })])\n",
    "    \n",
    "for i in trange(len(data5)):\n",
    "    data = pd.concat([data, pd.DataFrame({\n",
    "        'Text': [data5['CONTENT'][i]],\n",
    "        'Spam': [data5['CLASS'][i]]\n",
    "    })])\n",
    "\n",
    "for i in trange(len(data6)):\n",
    "    data = pd.concat([data, pd.DataFrame({\n",
    "        'Text': [data6['CONTENT'][i]],\n",
    "        'Spam': [data6['CLASS'][i]]\n",
    "    })])  \n",
    "\n",
    "for i in trange(len(data7)):\n",
    "    data = pd.concat([data, pd.DataFrame({\n",
    "        'Text': [data7['CONTENT'][i]],\n",
    "        'Spam': [data7['CLASS'][i]]\n",
    "    })])\n",
    "    \n",
    "for i in trange(len(data8)):\n",
    "    data = pd.concat([data, pd.DataFrame({\n",
    "        'Text': [data8['email'][i]],\n",
    "        'Spam': [data8['label'][i]]\n",
    "    })])    \n",
    "\n",
    "for i in trange(len(data9)):\n",
    "    data = pd.concat([data, pd.DataFrame({\n",
    "        'Text': [data9[0][i]],\n",
    "        'Spam': [int(data9[1][i] == 'spam')]\n",
    "    })])     \n",
    "\n",
    "for i in trange(len(data10)):\n",
    "    data = pd.concat([data, pd.DataFrame({\n",
    "        'Text': [data10['Text'][i]],\n",
    "        'Spam': [data10['Class'][i]]\n",
    "    })])        \n",
    "    \n",
    "for i in trange(len(data11)):\n",
    "    data = pd.concat([data, pd.DataFrame({\n",
    "        'Text': [data11['text'][i]],\n",
    "        'Spam': [1]\n",
    "    })])    \n",
    "    \n",
    "data.drop_duplicates(inplace=True)\n",
    "    \n",
    "print('Done', len(data))"
   ]
  },
  {
   "cell_type": "code",
   "execution_count": 18,
   "metadata": {
    "ExecuteTime": {
     "end_time": "2020-05-25T07:47:28.913723Z",
     "start_time": "2020-05-25T07:47:28.759135Z"
    }
   },
   "outputs": [
    {
     "name": "stdout",
     "output_type": "stream",
     "text": [
      "0    4360\n",
      "1    1368\n",
      "Name: spam, dtype: int64\n",
      "ham     4825\n",
      "spam    747 \n",
      "Name: label, dtype: int64\n",
      "1    175\n",
      "0    175\n",
      "Name: CLASS, dtype: int64\n",
      "1    175\n",
      "0    175\n",
      "Name: CLASS, dtype: int64\n",
      "1    236\n",
      "0    202\n",
      "Name: CLASS, dtype: int64\n",
      "1    245\n",
      "0    203\n",
      "Name: CLASS, dtype: int64\n",
      "0    196\n",
      "1    174\n",
      "Name: CLASS, dtype: int64\n",
      "0    2500\n",
      "1    500 \n",
      "Name: label, dtype: int64\n",
      "ham     2551\n",
      "spam    501 \n",
      "Name: 1, dtype: int64\n",
      "0    6742\n",
      "1    5187\n",
      "Name: Class, dtype: int64\n",
      "0    20668\n",
      "1    12500\n",
      "Name: Spam, dtype: int64\n"
     ]
    },
    {
     "data": {
      "text/plain": [
       "<matplotlib.axes._subplots.AxesSubplot at 0x25a1b85a550>"
      ]
     },
     "execution_count": 18,
     "metadata": {},
     "output_type": "execute_result"
    },
    {
     "data": {
      "image/png": "[encoded data removed]",
      "text/plain": [
       "<Figure size 432x288 with 1 Axes>"
      ]
     },
     "metadata": {},
     "output_type": "display_data"
    }
   ],
   "source": [
    "print(data1['spam'].value_counts())\n",
    "print(data2['label'].value_counts())\n",
    "print(data3['CLASS'].value_counts())\n",
    "print(data4['CLASS'].value_counts())\n",
    "print(data5['CLASS'].value_counts())\n",
    "print(data6['CLASS'].value_counts())\n",
    "print(data7['CLASS'].value_counts())\n",
    "print(data8['label'].value_counts())\n",
    "print(data9[1].value_counts())\n",
    "print(data10['Class'].value_counts())\n",
    "print(data['Spam'].value_counts())\n",
    "data['Spam'].value_counts().plot.pie()"
   ]
  },
  {
   "cell_type": "markdown",
   "metadata": {},
   "source": [
    "# Text Cleaning"
   ]
  },
  {
   "cell_type": "code",
   "execution_count": 19,
   "metadata": {
    "ExecuteTime": {
     "end_time": "2020-05-25T07:47:30.144437Z",
     "start_time": "2020-05-25T07:47:28.916716Z"
    }
   },
   "outputs": [],
   "source": [
    "import re, nltk\n",
    "from nltk.stem.porter import PorterStemmer\n",
    "from nltk.stem import WordNetLemmatizer\n",
    "\n",
    "def spell_correct(text):\n",
    "    text = re.sub(r\"can\\'t\", \"can not\", text)\n",
    "    text = re.sub(r\"what's\", \"what is \", text) \n",
    "    text = re.sub(r\"\\'s\", \" \", text)\n",
    "    text = re.sub(r\"\\'ve\", \" have \", text)\n",
    "    text = re.sub(r\"n't\", \" not \", text)\n",
    "    text = re.sub(r\"i'm\", \"i am \", text)\n",
    "    text = re.sub(r\"\\'re\", \" are \", text)\n",
    "    text = re.sub(r\"\\'d\", \" would \", text)\n",
    "    text = re.sub(r\"\\'ll\", \" will \", text)\n",
    "    text = re.sub(r\"\\0s\", \"0\", text)    \n",
    "    return text\n",
    "\n",
    "def remove_url(text):\n",
    "    URL_REGEX = re.compile(r'''((http[s]?://)[^ <>'\"{}|\\\\^`[\\]]*)''')\n",
    "    return URL_REGEX.sub(r' ', text)\n",
    "\n",
    "def remove_handles(text):\n",
    "    HANDLES_REGEX = re.compile(r'@\\S+')\n",
    "    return HANDLES_REGEX.sub(r' ', text)\n",
    "\n",
    "def remove_incomplete_last_word(text):\n",
    "    INCOMPLETE_LAST_WORD_REGEX = re.compile(r'\\S+…')\n",
    "    return INCOMPLETE_LAST_WORD_REGEX.sub(r' ', text )\n",
    "\n",
    "remove_punc = lambda x : re.sub(r\"\\W\", ' ', x)\n",
    "\n",
    "remove_num = lambda x : re.sub(r\"\\d\", ' ', x)\n",
    "\n",
    "remove_css = lambda x: re.sub(r'<style.*>[\\s\\S]+</style>', ' ', x)\n",
    "\n",
    "remove_js = lambda x: re.sub(r'<script.*>[\\s\\S]*</script>', ' ', x)\n",
    "\n",
    "remove_html = lambda x: re.sub(r\"<.*?>|&([a-z0-9]+|#[0-9]{1,6}|#x[0-9a-f]{1,6});\", ' ', x)\n",
    "\n",
    "remove_extra_spaces = lambda x : re.sub(r\"\\s+\", ' ', x)\n",
    "\n",
    "remove_shortwords = lambda x: ' '.join(word for word in x.split() if len(word) > 2)\n",
    "\n",
    "remove_unusualwords = lambda x: ' '.join(word for word in x.split() if len(word) < 16)\n",
    "\n",
    "lower_case = lambda x : x.lower()\n",
    "\n",
    "stop_words = set(nltk.corpus.stopwords.words('english'))\n",
    "remove_stopwords = lambda x: ' '.join(word for word in x.split() if word not in stop_words)\n",
    "\n",
    "ps = PorterStemmer()\n",
    "ps_stem = lambda x: ' '.join(ps.stem(word) for word in x.split())\n",
    "\n",
    "wnl = WordNetLemmatizer()\n",
    "wnl_lemmatize = lambda x: ' '.join(wnl.lemmatize(word) for word in x.split())\n",
    "\n",
    "def tag_pos(x):\n",
    "    tag_list =  nltk.pos_tag(nltk.word_tokenize(x))\n",
    "    pos = \"\"\n",
    "    for t in tag_list:\n",
    "        pos += t[0] +'(' + t[1] +')' + ' '\n",
    "    return pos\n",
    "\n",
    "def cleanText(x, rsw, stm, lem, tgps):\n",
    "    x = str(x)\n",
    "    x = remove_url(x)\n",
    "    x = remove_css(x)\n",
    "    x = remove_js(x)\n",
    "    x = remove_html(x)\n",
    "    x = lower_case(x)\n",
    "    x = spell_correct(x)\n",
    "    x = remove_punc(x)\n",
    "    x = remove_num(x)\n",
    "    x = remove_extra_spaces(x)\n",
    "    x = remove_shortwords(x)\n",
    "    x = remove_unusualwords(x)\n",
    "    \n",
    "    if rsw:\n",
    "        x = remove_stopwords(x)\n",
    "    if stm:\n",
    "        x = ps_stem(x)\n",
    "    if lem:\n",
    "        x = wnl_lemmatize(x)\n",
    "    if tgps:\n",
    "        x = tag_pos(x)\n",
    "    return x"
   ]
  },
  {
   "cell_type": "code",
   "execution_count": 20,
   "metadata": {
    "ExecuteTime": {
     "end_time": "2020-05-25T07:47:47.438188Z",
     "start_time": "2020-05-25T07:47:30.147425Z"
    }
   },
   "outputs": [
    {
     "data": {
      "application/vnd.jupyter.widget-view+json": {
       "model_id": "c3555ac366e748a99a1989be6dcb6937",
       "version_major": 2,
       "version_minor": 0
      },
      "text/plain": [
       "HBox(children=(IntProgress(value=0, max=33168), HTML(value='')))"
      ]
     },
     "metadata": {},
     "output_type": "display_data"
    },
    {
     "name": "stdout",
     "output_type": "stream",
     "text": [
      "\n"
     ]
    }
   ],
   "source": [
    "data['Text'] = data['Text'].progress_apply(lambda x : cleanText(x, True, False, False, False))"
   ]
  },
  {
   "cell_type": "code",
   "execution_count": 21,
   "metadata": {
    "ExecuteTime": {
     "end_time": "2020-05-25T07:47:47.577814Z",
     "start_time": "2020-05-25T07:47:47.441179Z"
    }
   },
   "outputs": [
    {
     "name": "stdout",
     "output_type": "stream",
     "text": [
      "Original Size 33168\n",
      "Updated Size 31730\n"
     ]
    }
   ],
   "source": [
    "print('Original Size', len(data))\n",
    "data.dropna(inplace=True)\n",
    "data.drop_duplicates(inplace=True)\n",
    "print('Updated Size', len(data))"
   ]
  },
  {
   "cell_type": "code",
   "execution_count": 22,
   "metadata": {
    "ExecuteTime": {
     "end_time": "2020-05-25T07:47:47.822183Z",
     "start_time": "2020-05-25T07:47:47.579811Z"
    }
   },
   "outputs": [],
   "source": [
    "from wordcloud import WordCloud"
   ]
  },
  {
   "cell_type": "code",
   "execution_count": 23,
   "metadata": {
    "ExecuteTime": {
     "end_time": "2020-05-25T07:48:06.015509Z",
     "start_time": "2020-05-25T07:47:47.838122Z"
    }
   },
   "outputs": [
    {
     "data": {
      "image/png": "[encoded data removed]",
      "text/plain": [
       "<Figure size 1440x432 with 2 Axes>"
      ]
     },
     "metadata": {
      "needs_background": "light"
     },
     "output_type": "display_data"
    }
   ],
   "source": [
    "fig = plt.figure(figsize=(20, 6))\n",
    "\n",
    "ax1 = plt.subplot2grid((1, 3), (0, 0))\n",
    "pd.Series(' '.join(data[data['Spam'] == 1]['Text']).split()).value_counts().head(20)[::-1].plot.barh(ax=ax1, grid=True,\n",
    "                                                                                title=\"Most Frequent Words in Spam Texts\")\n",
    "\n",
    "ax2 = plt.subplot2grid((1, 3), (0, 1), colspan=2)\n",
    "wordcloud = WordCloud().generate(' '.join((data[data['Spam'] == 1]['Text'].values)))\n",
    "ax2.imshow(wordcloud)\n",
    "ax2.set_title('Word Cloud of Spam Texts')\n",
    "ax2.xaxis.set_visible(False)\n",
    "ax2.yaxis.set_visible(False)"
   ]
  },
  {
   "cell_type": "code",
   "execution_count": 24,
   "metadata": {
    "ExecuteTime": {
     "end_time": "2020-05-25T07:48:06.957083Z",
     "start_time": "2020-05-25T07:48:06.019501Z"
    }
   },
   "outputs": [],
   "source": [
    "data.to_csv('data.csv', index=False)"
   ]
  },
  {
   "cell_type": "code",
   "execution_count": null,
   "metadata": {},
   "outputs": [],
   "source": []
  }
 ],
 "metadata": {
  "kernelspec": {
   "display_name": "Python 3",
   "language": "python",
   "name": "python3"
  },
  "language_info": {
   "codemirror_mode": {
    "name": "ipython",
    "version": 3
   },
   "file_extension": ".py",
   "mimetype": "text/x-python",
   "name": "python",
   "nbconvert_exporter": "python",
   "pygments_lexer": "ipython3",
   "version": "3.7.3"
  },
  "toc": {
   "base_numbering": 1,
   "nav_menu": {},
   "number_sections": true,
   "sideBar": true,
   "skip_h1_title": false,
   "title_cell": "Table of Contents",
   "title_sidebar": "Contents",
   "toc_cell": false,
   "toc_position": {},
   "toc_section_display": true,
   "toc_window_display": false
  },
  "varInspector": {
   "cols": {
    "lenName": 16,
    "lenType": 16,
    "lenVar": 40
   },
   "kernels_config": {
    "python": {
     "delete_cmd_postfix": "",
     "delete_cmd_prefix": "del ",
     "library": "var_list.py",
     "varRefreshCmd": "print(var_dic_list())"
    },
    "r": {
     "delete_cmd_postfix": ") ",
     "delete_cmd_prefix": "rm(",
     "library": "var_list.r",
     "varRefreshCmd": "cat(var_dic_list()) "
    }
   },
   "types_to_exclude": [
    "module",
    "function",
    "builtin_function_or_method",
    "instance",
    "_Feature"
   ],
   "window_display": false
  }
 },
 "nbformat": 4,
 "nbformat_minor": 2
}
